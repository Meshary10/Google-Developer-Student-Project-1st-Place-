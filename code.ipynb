{
  "cells": [
    {
      "cell_type": "markdown",
      "metadata": {
        "id": "AvISCuIFi7PB"
      },
      "source": [
        "# Import libraries\n"
      ]
    },
    {
      "cell_type": "code",
      "execution_count": 258,
      "metadata": {
        "id": "jGXA79TD6e19"
      },
      "outputs": [],
      "source": [
        "#Import libraries\n",
        "import pandas as pd\n",
        "pd.options.display.float_format = \"{:.2f}\".format\n",
        "import matplotlib.pyplot as plt\n",
        "import numpy as np\n",
        "import seaborn as sns\n",
        "%matplotlib inline"
      ]
    },
    {
      "cell_type": "markdown",
      "metadata": {
        "id": "Xisj0EMTjLKo"
      },
      "source": [
        "# Loading dataset"
      ]
    },
    {
      "cell_type": "code",
      "execution_count": 259,
      "metadata": {
        "id": "OjJkmbxjA4YD"
      },
      "outputs": [],
      "source": [
        "#loading dataset (csv file must be attached with the same name)\n",
        "df= pd.read_csv(\"Dataset.csv\")"
      ]
    },
    {
      "cell_type": "markdown",
      "metadata": {
        "id": "0tYpvQzCk4y5"
      },
      "source": [
        "# Understanding data"
      ]
    },
    {
      "cell_type": "code",
      "execution_count": 260,
      "metadata": {
        "colab": {
          "base_uri": "https://localhost:8080/",
          "height": 267
        },
        "id": "K6OgJVQL7f1b",
        "outputId": "15eb263c-b37b-403e-c5bf-950a0011a22a"
      },
      "outputs": [
        {
          "output_type": "execute_result",
          "data": {
            "text/plain": [
              "                                                Link      Make     Type  Year  \\\n",
              "0  https://syarah.com/%D9%83%D8%B1%D8%A7%D9%8A%D8...  Chrysler     C300  2018   \n",
              "1  https://syarah.com/%D9%86%D9%8A%D8%B3%D8%A7%D9...    Nissan   Patrol  2016   \n",
              "2  https://syarah.com/online/%D9%86%D9%8A%D8%B3%D...    Nissan    Sunny  2019   \n",
              "3  https://syarah.com/online/%D9%87%D9%88%D9%86%D...   Hyundai  Elantra  2019   \n",
              "4  https://syarah.com/online/%D9%87%D9%88%D9%86%D...   Hyundai  Elantra  2019   \n",
              "\n",
              "  Origin   Color    Options  Engine_Size Fuel_Type  Gear_Type Condition  \\\n",
              "0  Saudi   Black       Full         5.70       Gas  Automatic      Used   \n",
              "1  Saudi   White       Full         4.80       Gas  Automatic      Used   \n",
              "2  Saudi  Silver   Standard         1.50       Gas  Automatic      Used   \n",
              "3  Saudi    Grey   Standard         1.60       Gas  Automatic      Used   \n",
              "4  Saudi  Silver  Semi Full         2.00       Gas  Automatic      Used   \n",
              "\n",
              "   Mileage  Region       Price  Negotiable  \n",
              "0   103000  Riyadh      114000       False  \n",
              "1     5448  Riyadh  Negotiable        True  \n",
              "2    72418  Riyadh       27500       False  \n",
              "3   114154  Riyadh       43000       False  \n",
              "4    41912  Riyadh       59500       False  "
            ],
            "text/html": [
              "\n",
              "  <div id=\"df-1febc4db-4280-4b51-92df-659f085ac274\">\n",
              "    <div class=\"colab-df-container\">\n",
              "      <div>\n",
              "<style scoped>\n",
              "    .dataframe tbody tr th:only-of-type {\n",
              "        vertical-align: middle;\n",
              "    }\n",
              "\n",
              "    .dataframe tbody tr th {\n",
              "        vertical-align: top;\n",
              "    }\n",
              "\n",
              "    .dataframe thead th {\n",
              "        text-align: right;\n",
              "    }\n",
              "</style>\n",
              "<table border=\"1\" class=\"dataframe\">\n",
              "  <thead>\n",
              "    <tr style=\"text-align: right;\">\n",
              "      <th></th>\n",
              "      <th>Link</th>\n",
              "      <th>Make</th>\n",
              "      <th>Type</th>\n",
              "      <th>Year</th>\n",
              "      <th>Origin</th>\n",
              "      <th>Color</th>\n",
              "      <th>Options</th>\n",
              "      <th>Engine_Size</th>\n",
              "      <th>Fuel_Type</th>\n",
              "      <th>Gear_Type</th>\n",
              "      <th>Condition</th>\n",
              "      <th>Mileage</th>\n",
              "      <th>Region</th>\n",
              "      <th>Price</th>\n",
              "      <th>Negotiable</th>\n",
              "    </tr>\n",
              "  </thead>\n",
              "  <tbody>\n",
              "    <tr>\n",
              "      <th>0</th>\n",
              "      <td>https://syarah.com/%D9%83%D8%B1%D8%A7%D9%8A%D8...</td>\n",
              "      <td>Chrysler</td>\n",
              "      <td>C300</td>\n",
              "      <td>2018</td>\n",
              "      <td>Saudi</td>\n",
              "      <td>Black</td>\n",
              "      <td>Full</td>\n",
              "      <td>5.70</td>\n",
              "      <td>Gas</td>\n",
              "      <td>Automatic</td>\n",
              "      <td>Used</td>\n",
              "      <td>103000</td>\n",
              "      <td>Riyadh</td>\n",
              "      <td>114000</td>\n",
              "      <td>False</td>\n",
              "    </tr>\n",
              "    <tr>\n",
              "      <th>1</th>\n",
              "      <td>https://syarah.com/%D9%86%D9%8A%D8%B3%D8%A7%D9...</td>\n",
              "      <td>Nissan</td>\n",
              "      <td>Patrol</td>\n",
              "      <td>2016</td>\n",
              "      <td>Saudi</td>\n",
              "      <td>White</td>\n",
              "      <td>Full</td>\n",
              "      <td>4.80</td>\n",
              "      <td>Gas</td>\n",
              "      <td>Automatic</td>\n",
              "      <td>Used</td>\n",
              "      <td>5448</td>\n",
              "      <td>Riyadh</td>\n",
              "      <td>Negotiable</td>\n",
              "      <td>True</td>\n",
              "    </tr>\n",
              "    <tr>\n",
              "      <th>2</th>\n",
              "      <td>https://syarah.com/online/%D9%86%D9%8A%D8%B3%D...</td>\n",
              "      <td>Nissan</td>\n",
              "      <td>Sunny</td>\n",
              "      <td>2019</td>\n",
              "      <td>Saudi</td>\n",
              "      <td>Silver</td>\n",
              "      <td>Standard</td>\n",
              "      <td>1.50</td>\n",
              "      <td>Gas</td>\n",
              "      <td>Automatic</td>\n",
              "      <td>Used</td>\n",
              "      <td>72418</td>\n",
              "      <td>Riyadh</td>\n",
              "      <td>27500</td>\n",
              "      <td>False</td>\n",
              "    </tr>\n",
              "    <tr>\n",
              "      <th>3</th>\n",
              "      <td>https://syarah.com/online/%D9%87%D9%88%D9%86%D...</td>\n",
              "      <td>Hyundai</td>\n",
              "      <td>Elantra</td>\n",
              "      <td>2019</td>\n",
              "      <td>Saudi</td>\n",
              "      <td>Grey</td>\n",
              "      <td>Standard</td>\n",
              "      <td>1.60</td>\n",
              "      <td>Gas</td>\n",
              "      <td>Automatic</td>\n",
              "      <td>Used</td>\n",
              "      <td>114154</td>\n",
              "      <td>Riyadh</td>\n",
              "      <td>43000</td>\n",
              "      <td>False</td>\n",
              "    </tr>\n",
              "    <tr>\n",
              "      <th>4</th>\n",
              "      <td>https://syarah.com/online/%D9%87%D9%88%D9%86%D...</td>\n",
              "      <td>Hyundai</td>\n",
              "      <td>Elantra</td>\n",
              "      <td>2019</td>\n",
              "      <td>Saudi</td>\n",
              "      <td>Silver</td>\n",
              "      <td>Semi Full</td>\n",
              "      <td>2.00</td>\n",
              "      <td>Gas</td>\n",
              "      <td>Automatic</td>\n",
              "      <td>Used</td>\n",
              "      <td>41912</td>\n",
              "      <td>Riyadh</td>\n",
              "      <td>59500</td>\n",
              "      <td>False</td>\n",
              "    </tr>\n",
              "  </tbody>\n",
              "</table>\n",
              "</div>\n",
              "      <button class=\"colab-df-convert\" onclick=\"convertToInteractive('df-1febc4db-4280-4b51-92df-659f085ac274')\"\n",
              "              title=\"Convert this dataframe to an interactive table.\"\n",
              "              style=\"display:none;\">\n",
              "        \n",
              "  <svg xmlns=\"http://www.w3.org/2000/svg\" height=\"24px\"viewBox=\"0 0 24 24\"\n",
              "       width=\"24px\">\n",
              "    <path d=\"M0 0h24v24H0V0z\" fill=\"none\"/>\n",
              "    <path d=\"M18.56 5.44l.94 2.06.94-2.06 2.06-.94-2.06-.94-.94-2.06-.94 2.06-2.06.94zm-11 1L8.5 8.5l.94-2.06 2.06-.94-2.06-.94L8.5 2.5l-.94 2.06-2.06.94zm10 10l.94 2.06.94-2.06 2.06-.94-2.06-.94-.94-2.06-.94 2.06-2.06.94z\"/><path d=\"M17.41 7.96l-1.37-1.37c-.4-.4-.92-.59-1.43-.59-.52 0-1.04.2-1.43.59L10.3 9.45l-7.72 7.72c-.78.78-.78 2.05 0 2.83L4 21.41c.39.39.9.59 1.41.59.51 0 1.02-.2 1.41-.59l7.78-7.78 2.81-2.81c.8-.78.8-2.07 0-2.86zM5.41 20L4 18.59l7.72-7.72 1.47 1.35L5.41 20z\"/>\n",
              "  </svg>\n",
              "      </button>\n",
              "      \n",
              "  <style>\n",
              "    .colab-df-container {\n",
              "      display:flex;\n",
              "      flex-wrap:wrap;\n",
              "      gap: 12px;\n",
              "    }\n",
              "\n",
              "    .colab-df-convert {\n",
              "      background-color: #E8F0FE;\n",
              "      border: none;\n",
              "      border-radius: 50%;\n",
              "      cursor: pointer;\n",
              "      display: none;\n",
              "      fill: #1967D2;\n",
              "      height: 32px;\n",
              "      padding: 0 0 0 0;\n",
              "      width: 32px;\n",
              "    }\n",
              "\n",
              "    .colab-df-convert:hover {\n",
              "      background-color: #E2EBFA;\n",
              "      box-shadow: 0px 1px 2px rgba(60, 64, 67, 0.3), 0px 1px 3px 1px rgba(60, 64, 67, 0.15);\n",
              "      fill: #174EA6;\n",
              "    }\n",
              "\n",
              "    [theme=dark] .colab-df-convert {\n",
              "      background-color: #3B4455;\n",
              "      fill: #D2E3FC;\n",
              "    }\n",
              "\n",
              "    [theme=dark] .colab-df-convert:hover {\n",
              "      background-color: #434B5C;\n",
              "      box-shadow: 0px 1px 3px 1px rgba(0, 0, 0, 0.15);\n",
              "      filter: drop-shadow(0px 1px 2px rgba(0, 0, 0, 0.3));\n",
              "      fill: #FFFFFF;\n",
              "    }\n",
              "  </style>\n",
              "\n",
              "      <script>\n",
              "        const buttonEl =\n",
              "          document.querySelector('#df-1febc4db-4280-4b51-92df-659f085ac274 button.colab-df-convert');\n",
              "        buttonEl.style.display =\n",
              "          google.colab.kernel.accessAllowed ? 'block' : 'none';\n",
              "\n",
              "        async function convertToInteractive(key) {\n",
              "          const element = document.querySelector('#df-1febc4db-4280-4b51-92df-659f085ac274');\n",
              "          const dataTable =\n",
              "            await google.colab.kernel.invokeFunction('convertToInteractive',\n",
              "                                                     [key], {});\n",
              "          if (!dataTable) return;\n",
              "\n",
              "          const docLinkHtml = 'Like what you see? Visit the ' +\n",
              "            '<a target=\"_blank\" href=https://colab.research.google.com/notebooks/data_table.ipynb>data table notebook</a>'\n",
              "            + ' to learn more about interactive tables.';\n",
              "          element.innerHTML = '';\n",
              "          dataTable['output_type'] = 'display_data';\n",
              "          await google.colab.output.renderOutput(dataTable, element);\n",
              "          const docLink = document.createElement('div');\n",
              "          docLink.innerHTML = docLinkHtml;\n",
              "          element.appendChild(docLink);\n",
              "        }\n",
              "      </script>\n",
              "    </div>\n",
              "  </div>\n",
              "  "
            ]
          },
          "metadata": {},
          "execution_count": 260
        }
      ],
      "source": [
        "#display some data\n",
        "df.head()"
      ]
    },
    {
      "cell_type": "code",
      "execution_count": 261,
      "metadata": {
        "colab": {
          "base_uri": "https://localhost:8080/",
          "height": 287
        },
        "id": "FOUE6kPzirMX",
        "outputId": "077fe44e-38f7-43a6-d04e-4cbd890ee155"
      },
      "outputs": [
        {
          "output_type": "execute_result",
          "data": {
            "text/plain": [
              "                                                   Link     Make    Type  \\\n",
              "5829  https://syarah.com/%D9%81%D9%88%D8%B1%D8%AF_%D...     Ford   Focus   \n",
              "3570  https://syarah.com/%D8%AC%D9%85%D8%B3_%D8%B3%D...      GMC  Sierra   \n",
              "3147  https://syarah.com/%D8%AC%D9%8A_%D8%A5%D9%85_%...      GMC   Yukon   \n",
              "5240  https://syarah.com/%D9%87%D9%88%D9%86%D8%AF%D8...  Hyundai  Accent   \n",
              "63    https://syarah.com/online/%D9%86%D9%8A%D8%B3%D...   Nissan   Sunny   \n",
              "\n",
              "      Year Origin  Color    Options  Engine_Size Fuel_Type  Gear_Type  \\\n",
              "5829  2012  Saudi  Black  Semi Full          NaN       Gas  Automatic   \n",
              "3570  2015  Saudi  Black       Full          NaN       Gas  Automatic   \n",
              "3147  2008  Saudi  Black   Standard          NaN       Gas  Automatic   \n",
              "5240  2016  Saudi  White   Standard          NaN       Gas  Automatic   \n",
              "63    2019  Saudi  White   Standard         1.50       Gas  Automatic   \n",
              "\n",
              "     Condition  Mileage  Region       Price  Negotiable  \n",
              "5829      Used   160000  Riyadh  Negotiable        True  \n",
              "3570      Used   112000   Aseer       77000       False  \n",
              "3147      Used   440000  Dammam       28000       False  \n",
              "5240      Used    98000  Dammam       26000       False  \n",
              "63        Used    99104  Riyadh       26800       False  "
            ],
            "text/html": [
              "\n",
              "  <div id=\"df-2e97cfaf-fe64-46e6-85a3-dea3a7de693d\">\n",
              "    <div class=\"colab-df-container\">\n",
              "      <div>\n",
              "<style scoped>\n",
              "    .dataframe tbody tr th:only-of-type {\n",
              "        vertical-align: middle;\n",
              "    }\n",
              "\n",
              "    .dataframe tbody tr th {\n",
              "        vertical-align: top;\n",
              "    }\n",
              "\n",
              "    .dataframe thead th {\n",
              "        text-align: right;\n",
              "    }\n",
              "</style>\n",
              "<table border=\"1\" class=\"dataframe\">\n",
              "  <thead>\n",
              "    <tr style=\"text-align: right;\">\n",
              "      <th></th>\n",
              "      <th>Link</th>\n",
              "      <th>Make</th>\n",
              "      <th>Type</th>\n",
              "      <th>Year</th>\n",
              "      <th>Origin</th>\n",
              "      <th>Color</th>\n",
              "      <th>Options</th>\n",
              "      <th>Engine_Size</th>\n",
              "      <th>Fuel_Type</th>\n",
              "      <th>Gear_Type</th>\n",
              "      <th>Condition</th>\n",
              "      <th>Mileage</th>\n",
              "      <th>Region</th>\n",
              "      <th>Price</th>\n",
              "      <th>Negotiable</th>\n",
              "    </tr>\n",
              "  </thead>\n",
              "  <tbody>\n",
              "    <tr>\n",
              "      <th>5829</th>\n",
              "      <td>https://syarah.com/%D9%81%D9%88%D8%B1%D8%AF_%D...</td>\n",
              "      <td>Ford</td>\n",
              "      <td>Focus</td>\n",
              "      <td>2012</td>\n",
              "      <td>Saudi</td>\n",
              "      <td>Black</td>\n",
              "      <td>Semi Full</td>\n",
              "      <td>NaN</td>\n",
              "      <td>Gas</td>\n",
              "      <td>Automatic</td>\n",
              "      <td>Used</td>\n",
              "      <td>160000</td>\n",
              "      <td>Riyadh</td>\n",
              "      <td>Negotiable</td>\n",
              "      <td>True</td>\n",
              "    </tr>\n",
              "    <tr>\n",
              "      <th>3570</th>\n",
              "      <td>https://syarah.com/%D8%AC%D9%85%D8%B3_%D8%B3%D...</td>\n",
              "      <td>GMC</td>\n",
              "      <td>Sierra</td>\n",
              "      <td>2015</td>\n",
              "      <td>Saudi</td>\n",
              "      <td>Black</td>\n",
              "      <td>Full</td>\n",
              "      <td>NaN</td>\n",
              "      <td>Gas</td>\n",
              "      <td>Automatic</td>\n",
              "      <td>Used</td>\n",
              "      <td>112000</td>\n",
              "      <td>Aseer</td>\n",
              "      <td>77000</td>\n",
              "      <td>False</td>\n",
              "    </tr>\n",
              "    <tr>\n",
              "      <th>3147</th>\n",
              "      <td>https://syarah.com/%D8%AC%D9%8A_%D8%A5%D9%85_%...</td>\n",
              "      <td>GMC</td>\n",
              "      <td>Yukon</td>\n",
              "      <td>2008</td>\n",
              "      <td>Saudi</td>\n",
              "      <td>Black</td>\n",
              "      <td>Standard</td>\n",
              "      <td>NaN</td>\n",
              "      <td>Gas</td>\n",
              "      <td>Automatic</td>\n",
              "      <td>Used</td>\n",
              "      <td>440000</td>\n",
              "      <td>Dammam</td>\n",
              "      <td>28000</td>\n",
              "      <td>False</td>\n",
              "    </tr>\n",
              "    <tr>\n",
              "      <th>5240</th>\n",
              "      <td>https://syarah.com/%D9%87%D9%88%D9%86%D8%AF%D8...</td>\n",
              "      <td>Hyundai</td>\n",
              "      <td>Accent</td>\n",
              "      <td>2016</td>\n",
              "      <td>Saudi</td>\n",
              "      <td>White</td>\n",
              "      <td>Standard</td>\n",
              "      <td>NaN</td>\n",
              "      <td>Gas</td>\n",
              "      <td>Automatic</td>\n",
              "      <td>Used</td>\n",
              "      <td>98000</td>\n",
              "      <td>Dammam</td>\n",
              "      <td>26000</td>\n",
              "      <td>False</td>\n",
              "    </tr>\n",
              "    <tr>\n",
              "      <th>63</th>\n",
              "      <td>https://syarah.com/online/%D9%86%D9%8A%D8%B3%D...</td>\n",
              "      <td>Nissan</td>\n",
              "      <td>Sunny</td>\n",
              "      <td>2019</td>\n",
              "      <td>Saudi</td>\n",
              "      <td>White</td>\n",
              "      <td>Standard</td>\n",
              "      <td>1.50</td>\n",
              "      <td>Gas</td>\n",
              "      <td>Automatic</td>\n",
              "      <td>Used</td>\n",
              "      <td>99104</td>\n",
              "      <td>Riyadh</td>\n",
              "      <td>26800</td>\n",
              "      <td>False</td>\n",
              "    </tr>\n",
              "  </tbody>\n",
              "</table>\n",
              "</div>\n",
              "      <button class=\"colab-df-convert\" onclick=\"convertToInteractive('df-2e97cfaf-fe64-46e6-85a3-dea3a7de693d')\"\n",
              "              title=\"Convert this dataframe to an interactive table.\"\n",
              "              style=\"display:none;\">\n",
              "        \n",
              "  <svg xmlns=\"http://www.w3.org/2000/svg\" height=\"24px\"viewBox=\"0 0 24 24\"\n",
              "       width=\"24px\">\n",
              "    <path d=\"M0 0h24v24H0V0z\" fill=\"none\"/>\n",
              "    <path d=\"M18.56 5.44l.94 2.06.94-2.06 2.06-.94-2.06-.94-.94-2.06-.94 2.06-2.06.94zm-11 1L8.5 8.5l.94-2.06 2.06-.94-2.06-.94L8.5 2.5l-.94 2.06-2.06.94zm10 10l.94 2.06.94-2.06 2.06-.94-2.06-.94-.94-2.06-.94 2.06-2.06.94z\"/><path d=\"M17.41 7.96l-1.37-1.37c-.4-.4-.92-.59-1.43-.59-.52 0-1.04.2-1.43.59L10.3 9.45l-7.72 7.72c-.78.78-.78 2.05 0 2.83L4 21.41c.39.39.9.59 1.41.59.51 0 1.02-.2 1.41-.59l7.78-7.78 2.81-2.81c.8-.78.8-2.07 0-2.86zM5.41 20L4 18.59l7.72-7.72 1.47 1.35L5.41 20z\"/>\n",
              "  </svg>\n",
              "      </button>\n",
              "      \n",
              "  <style>\n",
              "    .colab-df-container {\n",
              "      display:flex;\n",
              "      flex-wrap:wrap;\n",
              "      gap: 12px;\n",
              "    }\n",
              "\n",
              "    .colab-df-convert {\n",
              "      background-color: #E8F0FE;\n",
              "      border: none;\n",
              "      border-radius: 50%;\n",
              "      cursor: pointer;\n",
              "      display: none;\n",
              "      fill: #1967D2;\n",
              "      height: 32px;\n",
              "      padding: 0 0 0 0;\n",
              "      width: 32px;\n",
              "    }\n",
              "\n",
              "    .colab-df-convert:hover {\n",
              "      background-color: #E2EBFA;\n",
              "      box-shadow: 0px 1px 2px rgba(60, 64, 67, 0.3), 0px 1px 3px 1px rgba(60, 64, 67, 0.15);\n",
              "      fill: #174EA6;\n",
              "    }\n",
              "\n",
              "    [theme=dark] .colab-df-convert {\n",
              "      background-color: #3B4455;\n",
              "      fill: #D2E3FC;\n",
              "    }\n",
              "\n",
              "    [theme=dark] .colab-df-convert:hover {\n",
              "      background-color: #434B5C;\n",
              "      box-shadow: 0px 1px 3px 1px rgba(0, 0, 0, 0.15);\n",
              "      filter: drop-shadow(0px 1px 2px rgba(0, 0, 0, 0.3));\n",
              "      fill: #FFFFFF;\n",
              "    }\n",
              "  </style>\n",
              "\n",
              "      <script>\n",
              "        const buttonEl =\n",
              "          document.querySelector('#df-2e97cfaf-fe64-46e6-85a3-dea3a7de693d button.colab-df-convert');\n",
              "        buttonEl.style.display =\n",
              "          google.colab.kernel.accessAllowed ? 'block' : 'none';\n",
              "\n",
              "        async function convertToInteractive(key) {\n",
              "          const element = document.querySelector('#df-2e97cfaf-fe64-46e6-85a3-dea3a7de693d');\n",
              "          const dataTable =\n",
              "            await google.colab.kernel.invokeFunction('convertToInteractive',\n",
              "                                                     [key], {});\n",
              "          if (!dataTable) return;\n",
              "\n",
              "          const docLinkHtml = 'Like what you see? Visit the ' +\n",
              "            '<a target=\"_blank\" href=https://colab.research.google.com/notebooks/data_table.ipynb>data table notebook</a>'\n",
              "            + ' to learn more about interactive tables.';\n",
              "          element.innerHTML = '';\n",
              "          dataTable['output_type'] = 'display_data';\n",
              "          await google.colab.output.renderOutput(dataTable, element);\n",
              "          const docLink = document.createElement('div');\n",
              "          docLink.innerHTML = docLinkHtml;\n",
              "          element.appendChild(docLink);\n",
              "        }\n",
              "      </script>\n",
              "    </div>\n",
              "  </div>\n",
              "  "
            ]
          },
          "metadata": {},
          "execution_count": 261
        }
      ],
      "source": [
        "#display 5 random samples of data\n",
        "df.sample(5)"
      ]
    },
    {
      "cell_type": "code",
      "execution_count": 262,
      "metadata": {
        "colab": {
          "base_uri": "https://localhost:8080/"
        },
        "id": "Zl57xHEm7sjZ",
        "outputId": "73abf27e-0376-4d63-8dc0-02ff384b1a5d"
      },
      "outputs": [
        {
          "output_type": "execute_result",
          "data": {
            "text/plain": [
              "(8248, 15)"
            ]
          },
          "metadata": {},
          "execution_count": 262
        }
      ],
      "source": [
        "#rows #columns\n",
        "df.shape"
      ]
    },
    {
      "cell_type": "code",
      "execution_count": 263,
      "metadata": {
        "colab": {
          "base_uri": "https://localhost:8080/"
        },
        "id": "mQ1r0V5k725r",
        "outputId": "768a5767-b802-44fd-c67e-56dd1e375bf4"
      },
      "outputs": [
        {
          "output_type": "stream",
          "name": "stdout",
          "text": [
            "<class 'pandas.core.frame.DataFrame'>\n",
            "RangeIndex: 8248 entries, 0 to 8247\n",
            "Data columns (total 15 columns):\n",
            " #   Column       Non-Null Count  Dtype  \n",
            "---  ------       --------------  -----  \n",
            " 0   Link         8248 non-null   object \n",
            " 1   Make         8248 non-null   object \n",
            " 2   Type         8248 non-null   object \n",
            " 3   Year         8248 non-null   int64  \n",
            " 4   Origin       8153 non-null   object \n",
            " 5   Color        8248 non-null   object \n",
            " 6   Options      8139 non-null   object \n",
            " 7   Engine_Size  5982 non-null   float64\n",
            " 8   Fuel_Type    8248 non-null   object \n",
            " 9   Gear_Type    8174 non-null   object \n",
            " 10  Condition    8248 non-null   object \n",
            " 11  Mileage      8248 non-null   int64  \n",
            " 12  Region       8248 non-null   object \n",
            " 13  Price        8248 non-null   object \n",
            " 14  Negotiable   8248 non-null   bool   \n",
            "dtypes: bool(1), float64(1), int64(2), object(11)\n",
            "memory usage: 910.3+ KB\n"
          ]
        }
      ],
      "source": [
        "#information about data\n",
        "df.info()"
      ]
    },
    {
      "cell_type": "code",
      "execution_count": 264,
      "metadata": {
        "colab": {
          "base_uri": "https://localhost:8080/",
          "height": 300
        },
        "id": "WVlmVxTeqlCt",
        "outputId": "4d753dcf-b08a-457b-a328-720d1b61f876"
      },
      "outputs": [
        {
          "output_type": "execute_result",
          "data": {
            "text/plain": [
              "         Year  Engine_Size     Mileage\n",
              "count 8248.00      5982.00     8248.00\n",
              "mean  2014.01         3.18   149412.81\n",
              "std      5.94         1.57   345525.85\n",
              "min   1936.00         1.00      100.00\n",
              "25%   2012.00         2.00    37000.00\n",
              "50%   2016.00         2.70   101657.50\n",
              "75%   2018.00         4.00   195552.00\n",
              "max   2022.00         9.00 20000000.00"
            ],
            "text/html": [
              "\n",
              "  <div id=\"df-dcd3810f-219f-468f-a664-56dfc5d1f42b\">\n",
              "    <div class=\"colab-df-container\">\n",
              "      <div>\n",
              "<style scoped>\n",
              "    .dataframe tbody tr th:only-of-type {\n",
              "        vertical-align: middle;\n",
              "    }\n",
              "\n",
              "    .dataframe tbody tr th {\n",
              "        vertical-align: top;\n",
              "    }\n",
              "\n",
              "    .dataframe thead th {\n",
              "        text-align: right;\n",
              "    }\n",
              "</style>\n",
              "<table border=\"1\" class=\"dataframe\">\n",
              "  <thead>\n",
              "    <tr style=\"text-align: right;\">\n",
              "      <th></th>\n",
              "      <th>Year</th>\n",
              "      <th>Engine_Size</th>\n",
              "      <th>Mileage</th>\n",
              "    </tr>\n",
              "  </thead>\n",
              "  <tbody>\n",
              "    <tr>\n",
              "      <th>count</th>\n",
              "      <td>8248.00</td>\n",
              "      <td>5982.00</td>\n",
              "      <td>8248.00</td>\n",
              "    </tr>\n",
              "    <tr>\n",
              "      <th>mean</th>\n",
              "      <td>2014.01</td>\n",
              "      <td>3.18</td>\n",
              "      <td>149412.81</td>\n",
              "    </tr>\n",
              "    <tr>\n",
              "      <th>std</th>\n",
              "      <td>5.94</td>\n",
              "      <td>1.57</td>\n",
              "      <td>345525.85</td>\n",
              "    </tr>\n",
              "    <tr>\n",
              "      <th>min</th>\n",
              "      <td>1936.00</td>\n",
              "      <td>1.00</td>\n",
              "      <td>100.00</td>\n",
              "    </tr>\n",
              "    <tr>\n",
              "      <th>25%</th>\n",
              "      <td>2012.00</td>\n",
              "      <td>2.00</td>\n",
              "      <td>37000.00</td>\n",
              "    </tr>\n",
              "    <tr>\n",
              "      <th>50%</th>\n",
              "      <td>2016.00</td>\n",
              "      <td>2.70</td>\n",
              "      <td>101657.50</td>\n",
              "    </tr>\n",
              "    <tr>\n",
              "      <th>75%</th>\n",
              "      <td>2018.00</td>\n",
              "      <td>4.00</td>\n",
              "      <td>195552.00</td>\n",
              "    </tr>\n",
              "    <tr>\n",
              "      <th>max</th>\n",
              "      <td>2022.00</td>\n",
              "      <td>9.00</td>\n",
              "      <td>20000000.00</td>\n",
              "    </tr>\n",
              "  </tbody>\n",
              "</table>\n",
              "</div>\n",
              "      <button class=\"colab-df-convert\" onclick=\"convertToInteractive('df-dcd3810f-219f-468f-a664-56dfc5d1f42b')\"\n",
              "              title=\"Convert this dataframe to an interactive table.\"\n",
              "              style=\"display:none;\">\n",
              "        \n",
              "  <svg xmlns=\"http://www.w3.org/2000/svg\" height=\"24px\"viewBox=\"0 0 24 24\"\n",
              "       width=\"24px\">\n",
              "    <path d=\"M0 0h24v24H0V0z\" fill=\"none\"/>\n",
              "    <path d=\"M18.56 5.44l.94 2.06.94-2.06 2.06-.94-2.06-.94-.94-2.06-.94 2.06-2.06.94zm-11 1L8.5 8.5l.94-2.06 2.06-.94-2.06-.94L8.5 2.5l-.94 2.06-2.06.94zm10 10l.94 2.06.94-2.06 2.06-.94-2.06-.94-.94-2.06-.94 2.06-2.06.94z\"/><path d=\"M17.41 7.96l-1.37-1.37c-.4-.4-.92-.59-1.43-.59-.52 0-1.04.2-1.43.59L10.3 9.45l-7.72 7.72c-.78.78-.78 2.05 0 2.83L4 21.41c.39.39.9.59 1.41.59.51 0 1.02-.2 1.41-.59l7.78-7.78 2.81-2.81c.8-.78.8-2.07 0-2.86zM5.41 20L4 18.59l7.72-7.72 1.47 1.35L5.41 20z\"/>\n",
              "  </svg>\n",
              "      </button>\n",
              "      \n",
              "  <style>\n",
              "    .colab-df-container {\n",
              "      display:flex;\n",
              "      flex-wrap:wrap;\n",
              "      gap: 12px;\n",
              "    }\n",
              "\n",
              "    .colab-df-convert {\n",
              "      background-color: #E8F0FE;\n",
              "      border: none;\n",
              "      border-radius: 50%;\n",
              "      cursor: pointer;\n",
              "      display: none;\n",
              "      fill: #1967D2;\n",
              "      height: 32px;\n",
              "      padding: 0 0 0 0;\n",
              "      width: 32px;\n",
              "    }\n",
              "\n",
              "    .colab-df-convert:hover {\n",
              "      background-color: #E2EBFA;\n",
              "      box-shadow: 0px 1px 2px rgba(60, 64, 67, 0.3), 0px 1px 3px 1px rgba(60, 64, 67, 0.15);\n",
              "      fill: #174EA6;\n",
              "    }\n",
              "\n",
              "    [theme=dark] .colab-df-convert {\n",
              "      background-color: #3B4455;\n",
              "      fill: #D2E3FC;\n",
              "    }\n",
              "\n",
              "    [theme=dark] .colab-df-convert:hover {\n",
              "      background-color: #434B5C;\n",
              "      box-shadow: 0px 1px 3px 1px rgba(0, 0, 0, 0.15);\n",
              "      filter: drop-shadow(0px 1px 2px rgba(0, 0, 0, 0.3));\n",
              "      fill: #FFFFFF;\n",
              "    }\n",
              "  </style>\n",
              "\n",
              "      <script>\n",
              "        const buttonEl =\n",
              "          document.querySelector('#df-dcd3810f-219f-468f-a664-56dfc5d1f42b button.colab-df-convert');\n",
              "        buttonEl.style.display =\n",
              "          google.colab.kernel.accessAllowed ? 'block' : 'none';\n",
              "\n",
              "        async function convertToInteractive(key) {\n",
              "          const element = document.querySelector('#df-dcd3810f-219f-468f-a664-56dfc5d1f42b');\n",
              "          const dataTable =\n",
              "            await google.colab.kernel.invokeFunction('convertToInteractive',\n",
              "                                                     [key], {});\n",
              "          if (!dataTable) return;\n",
              "\n",
              "          const docLinkHtml = 'Like what you see? Visit the ' +\n",
              "            '<a target=\"_blank\" href=https://colab.research.google.com/notebooks/data_table.ipynb>data table notebook</a>'\n",
              "            + ' to learn more about interactive tables.';\n",
              "          element.innerHTML = '';\n",
              "          dataTable['output_type'] = 'display_data';\n",
              "          await google.colab.output.renderOutput(dataTable, element);\n",
              "          const docLink = document.createElement('div');\n",
              "          docLink.innerHTML = docLinkHtml;\n",
              "          element.appendChild(docLink);\n",
              "        }\n",
              "      </script>\n",
              "    </div>\n",
              "  </div>\n",
              "  "
            ]
          },
          "metadata": {},
          "execution_count": 264
        }
      ],
      "source": [
        "#show some terms in numerical columns\n",
        "df.describe()"
      ]
    },
    {
      "cell_type": "code",
      "execution_count": 265,
      "metadata": {
        "colab": {
          "base_uri": "https://localhost:8080/"
        },
        "id": "dfaYhoey5YLy",
        "outputId": "59f3032f-e55f-463a-b87d-77d44523e03b"
      },
      "outputs": [
        {
          "output_type": "stream",
          "name": "stdout",
          "text": [
            "['Chrysler' 'Nissan' 'Hyundai' 'Honda' 'Toyota' 'GMC' 'Chevrolet'\n",
            " 'Mercedes' 'MINI' 'Lexus' 'Land Rover' 'Mazda' 'Ford' 'Kia' 'Genesis'\n",
            " 'Cadillac' 'Geely' 'MG' 'Jeep' 'INFINITI' 'Dodge' 'Ferrari' 'Great Wall'\n",
            " 'Jaguar' 'GAC' 'Renault' 'Suzuki' 'Peugeot' 'Changan' 'HAVAL' 'BMW'\n",
            " 'Rolls-Royce' 'Porsche' 'Mitsubishi' 'Isuzu' 'Subaru' 'Zhengzhou' 'Audi'\n",
            " 'Lincoln' 'Volkswagen' 'Daihatsu' 'Fiat' 'Bentley' 'FAW' 'Chery'\n",
            " 'Aston Martin' 'Pontiac' 'Mercury' 'BYD' 'Classic' 'SsangYong' 'Hummer'\n",
            " 'Other' 'Maserati' 'Lifan' 'Foton' 'Tata' 'Victory Auto' 'Škoda' 'JAC'\n",
            " 'Iveco' 'Volvo' 'Ashok' 'MAN' 'Buick']\n",
            "['Automatic' 'Manual' nan]\n",
            "['Gas' 'Diesel' 'Hybrid']\n",
            "['Saudi' 'Gulf Arabic' 'Other' nan]\n",
            "['Full' 'Standard' 'Semi Full' nan]\n"
          ]
        }
      ],
      "source": [
        "#display unique contents\n",
        "print(df.Make.unique())\n",
        "print(df.Gear_Type.unique())\n",
        "print(df.Fuel_Type.unique())\n",
        "print(df.Origin.unique())\n",
        "print(df.Options.unique())"
      ]
    },
    {
      "cell_type": "markdown",
      "metadata": {
        "id": "QjsVmnOemaWp"
      },
      "source": [
        "# Data cleaninig "
      ]
    },
    {
      "cell_type": "code",
      "execution_count": 266,
      "metadata": {
        "id": "UNZDxLlZlVid"
      },
      "outputs": [],
      "source": [
        "#delet (Link) and (Negotiable) and (Condition) columns\n",
        "#Because it's irrelevant columns\n",
        "df=df.drop(columns=['Link'])\n",
        "df=df.drop(columns=['Negotiable'])\n",
        "df=df.drop(columns=['Condition'])"
      ]
    },
    {
      "cell_type": "code",
      "execution_count": 267,
      "metadata": {
        "id": "JfNjUylBDPR1"
      },
      "outputs": [],
      "source": [
        "#delet Negotiable word from price column for convert price type\n",
        "df = df[df.Price != 'Negotiable']"
      ]
    },
    {
      "cell_type": "code",
      "execution_count": 268,
      "metadata": {
        "id": "EhVQk50mEEby"
      },
      "outputs": [],
      "source": [
        "#convert (price) column from object to float\n",
        "df[\"Price\"]=df[\"Price\"].astype(\"float\")"
      ]
    },
    {
      "cell_type": "code",
      "execution_count": 269,
      "metadata": {
        "colab": {
          "base_uri": "https://localhost:8080/"
        },
        "id": "OUkgCRXsFbdi",
        "outputId": "9aad52f8-9bab-4ebf-c605-738a142b2a85"
      },
      "outputs": [
        {
          "output_type": "stream",
          "name": "stdout",
          "text": [
            "<class 'pandas.core.frame.DataFrame'>\n",
            "Int64Index: 5652 entries, 0 to 8247\n",
            "Data columns (total 12 columns):\n",
            " #   Column       Non-Null Count  Dtype  \n",
            "---  ------       --------------  -----  \n",
            " 0   Make         5652 non-null   object \n",
            " 1   Type         5652 non-null   object \n",
            " 2   Year         5652 non-null   int64  \n",
            " 3   Origin       5625 non-null   object \n",
            " 4   Color        5652 non-null   object \n",
            " 5   Options      5611 non-null   object \n",
            " 6   Engine_Size  4425 non-null   float64\n",
            " 7   Fuel_Type    5652 non-null   object \n",
            " 8   Gear_Type    5633 non-null   object \n",
            " 9   Mileage      5652 non-null   int64  \n",
            " 10  Region       5652 non-null   object \n",
            " 11  Price        5652 non-null   float64\n",
            "dtypes: float64(2), int64(2), object(8)\n",
            "memory usage: 574.0+ KB\n"
          ]
        }
      ],
      "source": [
        "df.info()"
      ]
    },
    {
      "cell_type": "code",
      "execution_count": 270,
      "metadata": {
        "colab": {
          "base_uri": "https://localhost:8080/",
          "height": 300
        },
        "id": "K0xerpSm_3YW",
        "outputId": "7497a541-7069-462c-e6d0-4cd9e80be1a8"
      },
      "outputs": [
        {
          "output_type": "execute_result",
          "data": {
            "text/plain": [
              "         Year  Engine_Size     Mileage      Price\n",
              "count 5652.00      4425.00     5652.00    5652.00\n",
              "mean  2014.79         3.09   140108.21   78536.59\n",
              "std      5.22         1.49   334045.08   76073.74\n",
              "min   1963.00         1.00      100.00       0.00\n",
              "25%   2013.00         2.00    46484.50   35000.00\n",
              "50%   2016.00         2.70   101000.00   58000.00\n",
              "75%   2018.00         4.00   181000.00   95000.00\n",
              "max   2021.00         9.00 20000000.00 1150000.00"
            ],
            "text/html": [
              "\n",
              "  <div id=\"df-eb64021b-44b1-4d4a-ad8d-30d696e36936\">\n",
              "    <div class=\"colab-df-container\">\n",
              "      <div>\n",
              "<style scoped>\n",
              "    .dataframe tbody tr th:only-of-type {\n",
              "        vertical-align: middle;\n",
              "    }\n",
              "\n",
              "    .dataframe tbody tr th {\n",
              "        vertical-align: top;\n",
              "    }\n",
              "\n",
              "    .dataframe thead th {\n",
              "        text-align: right;\n",
              "    }\n",
              "</style>\n",
              "<table border=\"1\" class=\"dataframe\">\n",
              "  <thead>\n",
              "    <tr style=\"text-align: right;\">\n",
              "      <th></th>\n",
              "      <th>Year</th>\n",
              "      <th>Engine_Size</th>\n",
              "      <th>Mileage</th>\n",
              "      <th>Price</th>\n",
              "    </tr>\n",
              "  </thead>\n",
              "  <tbody>\n",
              "    <tr>\n",
              "      <th>count</th>\n",
              "      <td>5652.00</td>\n",
              "      <td>4425.00</td>\n",
              "      <td>5652.00</td>\n",
              "      <td>5652.00</td>\n",
              "    </tr>\n",
              "    <tr>\n",
              "      <th>mean</th>\n",
              "      <td>2014.79</td>\n",
              "      <td>3.09</td>\n",
              "      <td>140108.21</td>\n",
              "      <td>78536.59</td>\n",
              "    </tr>\n",
              "    <tr>\n",
              "      <th>std</th>\n",
              "      <td>5.22</td>\n",
              "      <td>1.49</td>\n",
              "      <td>334045.08</td>\n",
              "      <td>76073.74</td>\n",
              "    </tr>\n",
              "    <tr>\n",
              "      <th>min</th>\n",
              "      <td>1963.00</td>\n",
              "      <td>1.00</td>\n",
              "      <td>100.00</td>\n",
              "      <td>0.00</td>\n",
              "    </tr>\n",
              "    <tr>\n",
              "      <th>25%</th>\n",
              "      <td>2013.00</td>\n",
              "      <td>2.00</td>\n",
              "      <td>46484.50</td>\n",
              "      <td>35000.00</td>\n",
              "    </tr>\n",
              "    <tr>\n",
              "      <th>50%</th>\n",
              "      <td>2016.00</td>\n",
              "      <td>2.70</td>\n",
              "      <td>101000.00</td>\n",
              "      <td>58000.00</td>\n",
              "    </tr>\n",
              "    <tr>\n",
              "      <th>75%</th>\n",
              "      <td>2018.00</td>\n",
              "      <td>4.00</td>\n",
              "      <td>181000.00</td>\n",
              "      <td>95000.00</td>\n",
              "    </tr>\n",
              "    <tr>\n",
              "      <th>max</th>\n",
              "      <td>2021.00</td>\n",
              "      <td>9.00</td>\n",
              "      <td>20000000.00</td>\n",
              "      <td>1150000.00</td>\n",
              "    </tr>\n",
              "  </tbody>\n",
              "</table>\n",
              "</div>\n",
              "      <button class=\"colab-df-convert\" onclick=\"convertToInteractive('df-eb64021b-44b1-4d4a-ad8d-30d696e36936')\"\n",
              "              title=\"Convert this dataframe to an interactive table.\"\n",
              "              style=\"display:none;\">\n",
              "        \n",
              "  <svg xmlns=\"http://www.w3.org/2000/svg\" height=\"24px\"viewBox=\"0 0 24 24\"\n",
              "       width=\"24px\">\n",
              "    <path d=\"M0 0h24v24H0V0z\" fill=\"none\"/>\n",
              "    <path d=\"M18.56 5.44l.94 2.06.94-2.06 2.06-.94-2.06-.94-.94-2.06-.94 2.06-2.06.94zm-11 1L8.5 8.5l.94-2.06 2.06-.94-2.06-.94L8.5 2.5l-.94 2.06-2.06.94zm10 10l.94 2.06.94-2.06 2.06-.94-2.06-.94-.94-2.06-.94 2.06-2.06.94z\"/><path d=\"M17.41 7.96l-1.37-1.37c-.4-.4-.92-.59-1.43-.59-.52 0-1.04.2-1.43.59L10.3 9.45l-7.72 7.72c-.78.78-.78 2.05 0 2.83L4 21.41c.39.39.9.59 1.41.59.51 0 1.02-.2 1.41-.59l7.78-7.78 2.81-2.81c.8-.78.8-2.07 0-2.86zM5.41 20L4 18.59l7.72-7.72 1.47 1.35L5.41 20z\"/>\n",
              "  </svg>\n",
              "      </button>\n",
              "      \n",
              "  <style>\n",
              "    .colab-df-container {\n",
              "      display:flex;\n",
              "      flex-wrap:wrap;\n",
              "      gap: 12px;\n",
              "    }\n",
              "\n",
              "    .colab-df-convert {\n",
              "      background-color: #E8F0FE;\n",
              "      border: none;\n",
              "      border-radius: 50%;\n",
              "      cursor: pointer;\n",
              "      display: none;\n",
              "      fill: #1967D2;\n",
              "      height: 32px;\n",
              "      padding: 0 0 0 0;\n",
              "      width: 32px;\n",
              "    }\n",
              "\n",
              "    .colab-df-convert:hover {\n",
              "      background-color: #E2EBFA;\n",
              "      box-shadow: 0px 1px 2px rgba(60, 64, 67, 0.3), 0px 1px 3px 1px rgba(60, 64, 67, 0.15);\n",
              "      fill: #174EA6;\n",
              "    }\n",
              "\n",
              "    [theme=dark] .colab-df-convert {\n",
              "      background-color: #3B4455;\n",
              "      fill: #D2E3FC;\n",
              "    }\n",
              "\n",
              "    [theme=dark] .colab-df-convert:hover {\n",
              "      background-color: #434B5C;\n",
              "      box-shadow: 0px 1px 3px 1px rgba(0, 0, 0, 0.15);\n",
              "      filter: drop-shadow(0px 1px 2px rgba(0, 0, 0, 0.3));\n",
              "      fill: #FFFFFF;\n",
              "    }\n",
              "  </style>\n",
              "\n",
              "      <script>\n",
              "        const buttonEl =\n",
              "          document.querySelector('#df-eb64021b-44b1-4d4a-ad8d-30d696e36936 button.colab-df-convert');\n",
              "        buttonEl.style.display =\n",
              "          google.colab.kernel.accessAllowed ? 'block' : 'none';\n",
              "\n",
              "        async function convertToInteractive(key) {\n",
              "          const element = document.querySelector('#df-eb64021b-44b1-4d4a-ad8d-30d696e36936');\n",
              "          const dataTable =\n",
              "            await google.colab.kernel.invokeFunction('convertToInteractive',\n",
              "                                                     [key], {});\n",
              "          if (!dataTable) return;\n",
              "\n",
              "          const docLinkHtml = 'Like what you see? Visit the ' +\n",
              "            '<a target=\"_blank\" href=https://colab.research.google.com/notebooks/data_table.ipynb>data table notebook</a>'\n",
              "            + ' to learn more about interactive tables.';\n",
              "          element.innerHTML = '';\n",
              "          dataTable['output_type'] = 'display_data';\n",
              "          await google.colab.output.renderOutput(dataTable, element);\n",
              "          const docLink = document.createElement('div');\n",
              "          docLink.innerHTML = docLinkHtml;\n",
              "          element.appendChild(docLink);\n",
              "        }\n",
              "      </script>\n",
              "    </div>\n",
              "  </div>\n",
              "  "
            ]
          },
          "metadata": {},
          "execution_count": 270
        }
      ],
      "source": [
        "df.describe()"
      ]
    },
    {
      "cell_type": "code",
      "execution_count": 271,
      "metadata": {
        "colab": {
          "base_uri": "https://localhost:8080/",
          "height": 424
        },
        "id": "t_QmQIvbD-D_",
        "outputId": "481927e9-2a41-480b-959a-b47b02bde2a5"
      },
      "outputs": [
        {
          "output_type": "execute_result",
          "data": {
            "text/plain": [
              "            Make       Type  Year       Origin          Color    Options  \\\n",
              "3814      Toyota  Furniture  2012        Other          White  Semi Full   \n",
              "8236         GMC      Yukon  2019        Saudi           Grey       Full   \n",
              "7181     Genesis        G80  2018        Other           Grey  Semi Full   \n",
              "7829      Toyota      Yaris  2018        Saudi          White   Standard   \n",
              "2252  Mitsubishi    Attrage  2019        Saudi           Grey   Standard   \n",
              "...          ...        ...   ...          ...            ...        ...   \n",
              "3276     Bentley     Arnage  2020        Saudi          Black   Standard   \n",
              "4151    Mercedes          G  2019        Other          Black       Full   \n",
              "3934    Mercedes          G  2019        Saudi           Grey        NaN   \n",
              "6070     Bentley   Bentayga  2019        Saudi  Another Color       Full   \n",
              "1049    Mercedes          G  2021  Gulf Arabic          Black       Full   \n",
              "\n",
              "      Engine_Size Fuel_Type  Gear_Type  Mileage  Region      Price  \n",
              "3814         2.70       Gas  Automatic   225000  Riyadh       0.00  \n",
              "8236          NaN       Gas  Automatic    50000  Jubail       1.00  \n",
              "7181          NaN       Gas  Automatic   170000  Riyadh     500.00  \n",
              "7829         1.50       Gas  Automatic   100000  Riyadh     850.00  \n",
              "2252         1.20       Gas  Automatic    41000  Jeddah     877.00  \n",
              "...           ...       ...        ...      ...     ...        ...  \n",
              "3276         1.00       Gas  Automatic      300  Jeddah  772500.00  \n",
              "4151         4.00       Gas  Automatic    39000  Riyadh  800000.00  \n",
              "3934          NaN       Gas  Automatic    60000  Riyadh  835000.00  \n",
              "6070         6.00       Gas  Automatic    13000  Dammam  850000.00  \n",
              "1049         5.00       Gas  Automatic     5000  Riyadh 1150000.00  \n",
              "\n",
              "[5652 rows x 12 columns]"
            ],
            "text/html": [
              "\n",
              "  <div id=\"df-4e37ca7f-ae6e-446c-ac22-8e499cc284a4\">\n",
              "    <div class=\"colab-df-container\">\n",
              "      <div>\n",
              "<style scoped>\n",
              "    .dataframe tbody tr th:only-of-type {\n",
              "        vertical-align: middle;\n",
              "    }\n",
              "\n",
              "    .dataframe tbody tr th {\n",
              "        vertical-align: top;\n",
              "    }\n",
              "\n",
              "    .dataframe thead th {\n",
              "        text-align: right;\n",
              "    }\n",
              "</style>\n",
              "<table border=\"1\" class=\"dataframe\">\n",
              "  <thead>\n",
              "    <tr style=\"text-align: right;\">\n",
              "      <th></th>\n",
              "      <th>Make</th>\n",
              "      <th>Type</th>\n",
              "      <th>Year</th>\n",
              "      <th>Origin</th>\n",
              "      <th>Color</th>\n",
              "      <th>Options</th>\n",
              "      <th>Engine_Size</th>\n",
              "      <th>Fuel_Type</th>\n",
              "      <th>Gear_Type</th>\n",
              "      <th>Mileage</th>\n",
              "      <th>Region</th>\n",
              "      <th>Price</th>\n",
              "    </tr>\n",
              "  </thead>\n",
              "  <tbody>\n",
              "    <tr>\n",
              "      <th>3814</th>\n",
              "      <td>Toyota</td>\n",
              "      <td>Furniture</td>\n",
              "      <td>2012</td>\n",
              "      <td>Other</td>\n",
              "      <td>White</td>\n",
              "      <td>Semi Full</td>\n",
              "      <td>2.70</td>\n",
              "      <td>Gas</td>\n",
              "      <td>Automatic</td>\n",
              "      <td>225000</td>\n",
              "      <td>Riyadh</td>\n",
              "      <td>0.00</td>\n",
              "    </tr>\n",
              "    <tr>\n",
              "      <th>8236</th>\n",
              "      <td>GMC</td>\n",
              "      <td>Yukon</td>\n",
              "      <td>2019</td>\n",
              "      <td>Saudi</td>\n",
              "      <td>Grey</td>\n",
              "      <td>Full</td>\n",
              "      <td>NaN</td>\n",
              "      <td>Gas</td>\n",
              "      <td>Automatic</td>\n",
              "      <td>50000</td>\n",
              "      <td>Jubail</td>\n",
              "      <td>1.00</td>\n",
              "    </tr>\n",
              "    <tr>\n",
              "      <th>7181</th>\n",
              "      <td>Genesis</td>\n",
              "      <td>G80</td>\n",
              "      <td>2018</td>\n",
              "      <td>Other</td>\n",
              "      <td>Grey</td>\n",
              "      <td>Semi Full</td>\n",
              "      <td>NaN</td>\n",
              "      <td>Gas</td>\n",
              "      <td>Automatic</td>\n",
              "      <td>170000</td>\n",
              "      <td>Riyadh</td>\n",
              "      <td>500.00</td>\n",
              "    </tr>\n",
              "    <tr>\n",
              "      <th>7829</th>\n",
              "      <td>Toyota</td>\n",
              "      <td>Yaris</td>\n",
              "      <td>2018</td>\n",
              "      <td>Saudi</td>\n",
              "      <td>White</td>\n",
              "      <td>Standard</td>\n",
              "      <td>1.50</td>\n",
              "      <td>Gas</td>\n",
              "      <td>Automatic</td>\n",
              "      <td>100000</td>\n",
              "      <td>Riyadh</td>\n",
              "      <td>850.00</td>\n",
              "    </tr>\n",
              "    <tr>\n",
              "      <th>2252</th>\n",
              "      <td>Mitsubishi</td>\n",
              "      <td>Attrage</td>\n",
              "      <td>2019</td>\n",
              "      <td>Saudi</td>\n",
              "      <td>Grey</td>\n",
              "      <td>Standard</td>\n",
              "      <td>1.20</td>\n",
              "      <td>Gas</td>\n",
              "      <td>Automatic</td>\n",
              "      <td>41000</td>\n",
              "      <td>Jeddah</td>\n",
              "      <td>877.00</td>\n",
              "    </tr>\n",
              "    <tr>\n",
              "      <th>...</th>\n",
              "      <td>...</td>\n",
              "      <td>...</td>\n",
              "      <td>...</td>\n",
              "      <td>...</td>\n",
              "      <td>...</td>\n",
              "      <td>...</td>\n",
              "      <td>...</td>\n",
              "      <td>...</td>\n",
              "      <td>...</td>\n",
              "      <td>...</td>\n",
              "      <td>...</td>\n",
              "      <td>...</td>\n",
              "    </tr>\n",
              "    <tr>\n",
              "      <th>3276</th>\n",
              "      <td>Bentley</td>\n",
              "      <td>Arnage</td>\n",
              "      <td>2020</td>\n",
              "      <td>Saudi</td>\n",
              "      <td>Black</td>\n",
              "      <td>Standard</td>\n",
              "      <td>1.00</td>\n",
              "      <td>Gas</td>\n",
              "      <td>Automatic</td>\n",
              "      <td>300</td>\n",
              "      <td>Jeddah</td>\n",
              "      <td>772500.00</td>\n",
              "    </tr>\n",
              "    <tr>\n",
              "      <th>4151</th>\n",
              "      <td>Mercedes</td>\n",
              "      <td>G</td>\n",
              "      <td>2019</td>\n",
              "      <td>Other</td>\n",
              "      <td>Black</td>\n",
              "      <td>Full</td>\n",
              "      <td>4.00</td>\n",
              "      <td>Gas</td>\n",
              "      <td>Automatic</td>\n",
              "      <td>39000</td>\n",
              "      <td>Riyadh</td>\n",
              "      <td>800000.00</td>\n",
              "    </tr>\n",
              "    <tr>\n",
              "      <th>3934</th>\n",
              "      <td>Mercedes</td>\n",
              "      <td>G</td>\n",
              "      <td>2019</td>\n",
              "      <td>Saudi</td>\n",
              "      <td>Grey</td>\n",
              "      <td>NaN</td>\n",
              "      <td>NaN</td>\n",
              "      <td>Gas</td>\n",
              "      <td>Automatic</td>\n",
              "      <td>60000</td>\n",
              "      <td>Riyadh</td>\n",
              "      <td>835000.00</td>\n",
              "    </tr>\n",
              "    <tr>\n",
              "      <th>6070</th>\n",
              "      <td>Bentley</td>\n",
              "      <td>Bentayga</td>\n",
              "      <td>2019</td>\n",
              "      <td>Saudi</td>\n",
              "      <td>Another Color</td>\n",
              "      <td>Full</td>\n",
              "      <td>6.00</td>\n",
              "      <td>Gas</td>\n",
              "      <td>Automatic</td>\n",
              "      <td>13000</td>\n",
              "      <td>Dammam</td>\n",
              "      <td>850000.00</td>\n",
              "    </tr>\n",
              "    <tr>\n",
              "      <th>1049</th>\n",
              "      <td>Mercedes</td>\n",
              "      <td>G</td>\n",
              "      <td>2021</td>\n",
              "      <td>Gulf Arabic</td>\n",
              "      <td>Black</td>\n",
              "      <td>Full</td>\n",
              "      <td>5.00</td>\n",
              "      <td>Gas</td>\n",
              "      <td>Automatic</td>\n",
              "      <td>5000</td>\n",
              "      <td>Riyadh</td>\n",
              "      <td>1150000.00</td>\n",
              "    </tr>\n",
              "  </tbody>\n",
              "</table>\n",
              "<p>5652 rows × 12 columns</p>\n",
              "</div>\n",
              "      <button class=\"colab-df-convert\" onclick=\"convertToInteractive('df-4e37ca7f-ae6e-446c-ac22-8e499cc284a4')\"\n",
              "              title=\"Convert this dataframe to an interactive table.\"\n",
              "              style=\"display:none;\">\n",
              "        \n",
              "  <svg xmlns=\"http://www.w3.org/2000/svg\" height=\"24px\"viewBox=\"0 0 24 24\"\n",
              "       width=\"24px\">\n",
              "    <path d=\"M0 0h24v24H0V0z\" fill=\"none\"/>\n",
              "    <path d=\"M18.56 5.44l.94 2.06.94-2.06 2.06-.94-2.06-.94-.94-2.06-.94 2.06-2.06.94zm-11 1L8.5 8.5l.94-2.06 2.06-.94-2.06-.94L8.5 2.5l-.94 2.06-2.06.94zm10 10l.94 2.06.94-2.06 2.06-.94-2.06-.94-.94-2.06-.94 2.06-2.06.94z\"/><path d=\"M17.41 7.96l-1.37-1.37c-.4-.4-.92-.59-1.43-.59-.52 0-1.04.2-1.43.59L10.3 9.45l-7.72 7.72c-.78.78-.78 2.05 0 2.83L4 21.41c.39.39.9.59 1.41.59.51 0 1.02-.2 1.41-.59l7.78-7.78 2.81-2.81c.8-.78.8-2.07 0-2.86zM5.41 20L4 18.59l7.72-7.72 1.47 1.35L5.41 20z\"/>\n",
              "  </svg>\n",
              "      </button>\n",
              "      \n",
              "  <style>\n",
              "    .colab-df-container {\n",
              "      display:flex;\n",
              "      flex-wrap:wrap;\n",
              "      gap: 12px;\n",
              "    }\n",
              "\n",
              "    .colab-df-convert {\n",
              "      background-color: #E8F0FE;\n",
              "      border: none;\n",
              "      border-radius: 50%;\n",
              "      cursor: pointer;\n",
              "      display: none;\n",
              "      fill: #1967D2;\n",
              "      height: 32px;\n",
              "      padding: 0 0 0 0;\n",
              "      width: 32px;\n",
              "    }\n",
              "\n",
              "    .colab-df-convert:hover {\n",
              "      background-color: #E2EBFA;\n",
              "      box-shadow: 0px 1px 2px rgba(60, 64, 67, 0.3), 0px 1px 3px 1px rgba(60, 64, 67, 0.15);\n",
              "      fill: #174EA6;\n",
              "    }\n",
              "\n",
              "    [theme=dark] .colab-df-convert {\n",
              "      background-color: #3B4455;\n",
              "      fill: #D2E3FC;\n",
              "    }\n",
              "\n",
              "    [theme=dark] .colab-df-convert:hover {\n",
              "      background-color: #434B5C;\n",
              "      box-shadow: 0px 1px 3px 1px rgba(0, 0, 0, 0.15);\n",
              "      filter: drop-shadow(0px 1px 2px rgba(0, 0, 0, 0.3));\n",
              "      fill: #FFFFFF;\n",
              "    }\n",
              "  </style>\n",
              "\n",
              "      <script>\n",
              "        const buttonEl =\n",
              "          document.querySelector('#df-4e37ca7f-ae6e-446c-ac22-8e499cc284a4 button.colab-df-convert');\n",
              "        buttonEl.style.display =\n",
              "          google.colab.kernel.accessAllowed ? 'block' : 'none';\n",
              "\n",
              "        async function convertToInteractive(key) {\n",
              "          const element = document.querySelector('#df-4e37ca7f-ae6e-446c-ac22-8e499cc284a4');\n",
              "          const dataTable =\n",
              "            await google.colab.kernel.invokeFunction('convertToInteractive',\n",
              "                                                     [key], {});\n",
              "          if (!dataTable) return;\n",
              "\n",
              "          const docLinkHtml = 'Like what you see? Visit the ' +\n",
              "            '<a target=\"_blank\" href=https://colab.research.google.com/notebooks/data_table.ipynb>data table notebook</a>'\n",
              "            + ' to learn more about interactive tables.';\n",
              "          element.innerHTML = '';\n",
              "          dataTable['output_type'] = 'display_data';\n",
              "          await google.colab.output.renderOutput(dataTable, element);\n",
              "          const docLink = document.createElement('div');\n",
              "          docLink.innerHTML = docLinkHtml;\n",
              "          element.appendChild(docLink);\n",
              "        }\n",
              "      </script>\n",
              "    </div>\n",
              "  </div>\n",
              "  "
            ]
          },
          "metadata": {},
          "execution_count": 271
        }
      ],
      "source": [
        "#arrange the price column from smallest to largest\n",
        "df.sort_values(by='Price', ascending=True)"
      ]
    },
    {
      "cell_type": "markdown",
      "metadata": {
        "id": "B2frI6ZjAV4g"
      },
      "source": [
        "**From the previous two tables, it was concluded that there is no used car whose price is zero and any car price less than 5000 its not make sence**"
      ]
    },
    {
      "cell_type": "code",
      "execution_count": 272,
      "metadata": {
        "id": "hL1byBjOCCL6"
      },
      "outputs": [],
      "source": [
        "#delete all car prices below 5000 \n",
        "df = df[df.Price > 5000]"
      ]
    },
    {
      "cell_type": "code",
      "execution_count": 273,
      "metadata": {
        "colab": {
          "base_uri": "https://localhost:8080/",
          "height": 206
        },
        "id": "VKk-t_qIFjB-",
        "outputId": "52e1b712-16b7-48a4-ae25-6bc295c35dcd"
      },
      "outputs": [
        {
          "output_type": "execute_result",
          "data": {
            "text/plain": [
              "          Make     Type  Year Origin   Color    Options  Engine_Size  \\\n",
              "7828  Mercedes      SEL  1986  Saudi  Silver       Full         3.00   \n",
              "5715     Other    Other  2021  Other  Yellow  Semi Full         1.20   \n",
              "6006     Škoda    Fabia  2007  Saudi     Red   Standard         1.20   \n",
              "1236       Kia   Optima  2006  Other   White   Standard         1.30   \n",
              "2135      Ford  Marquis  2001  Saudi   White   Standard         4.60   \n",
              "\n",
              "     Fuel_Type  Gear_Type  Mileage  Region   Price  \n",
              "7828       Gas  Automatic   500000  Tabouk 5500.00  \n",
              "5715       Gas     Manual     3000  Jeddah 5500.00  \n",
              "6006       Gas     Manual   219000  Riyadh 6000.00  \n",
              "1236       Gas     Manual   290000    Taef 6000.00  \n",
              "2135       Gas  Automatic   350000   Aseer 6000.00  "
            ],
            "text/html": [
              "\n",
              "  <div id=\"df-ebfa6e8d-a826-4b26-add2-f423f4cd4c80\">\n",
              "    <div class=\"colab-df-container\">\n",
              "      <div>\n",
              "<style scoped>\n",
              "    .dataframe tbody tr th:only-of-type {\n",
              "        vertical-align: middle;\n",
              "    }\n",
              "\n",
              "    .dataframe tbody tr th {\n",
              "        vertical-align: top;\n",
              "    }\n",
              "\n",
              "    .dataframe thead th {\n",
              "        text-align: right;\n",
              "    }\n",
              "</style>\n",
              "<table border=\"1\" class=\"dataframe\">\n",
              "  <thead>\n",
              "    <tr style=\"text-align: right;\">\n",
              "      <th></th>\n",
              "      <th>Make</th>\n",
              "      <th>Type</th>\n",
              "      <th>Year</th>\n",
              "      <th>Origin</th>\n",
              "      <th>Color</th>\n",
              "      <th>Options</th>\n",
              "      <th>Engine_Size</th>\n",
              "      <th>Fuel_Type</th>\n",
              "      <th>Gear_Type</th>\n",
              "      <th>Mileage</th>\n",
              "      <th>Region</th>\n",
              "      <th>Price</th>\n",
              "    </tr>\n",
              "  </thead>\n",
              "  <tbody>\n",
              "    <tr>\n",
              "      <th>7828</th>\n",
              "      <td>Mercedes</td>\n",
              "      <td>SEL</td>\n",
              "      <td>1986</td>\n",
              "      <td>Saudi</td>\n",
              "      <td>Silver</td>\n",
              "      <td>Full</td>\n",
              "      <td>3.00</td>\n",
              "      <td>Gas</td>\n",
              "      <td>Automatic</td>\n",
              "      <td>500000</td>\n",
              "      <td>Tabouk</td>\n",
              "      <td>5500.00</td>\n",
              "    </tr>\n",
              "    <tr>\n",
              "      <th>5715</th>\n",
              "      <td>Other</td>\n",
              "      <td>Other</td>\n",
              "      <td>2021</td>\n",
              "      <td>Other</td>\n",
              "      <td>Yellow</td>\n",
              "      <td>Semi Full</td>\n",
              "      <td>1.20</td>\n",
              "      <td>Gas</td>\n",
              "      <td>Manual</td>\n",
              "      <td>3000</td>\n",
              "      <td>Jeddah</td>\n",
              "      <td>5500.00</td>\n",
              "    </tr>\n",
              "    <tr>\n",
              "      <th>6006</th>\n",
              "      <td>Škoda</td>\n",
              "      <td>Fabia</td>\n",
              "      <td>2007</td>\n",
              "      <td>Saudi</td>\n",
              "      <td>Red</td>\n",
              "      <td>Standard</td>\n",
              "      <td>1.20</td>\n",
              "      <td>Gas</td>\n",
              "      <td>Manual</td>\n",
              "      <td>219000</td>\n",
              "      <td>Riyadh</td>\n",
              "      <td>6000.00</td>\n",
              "    </tr>\n",
              "    <tr>\n",
              "      <th>1236</th>\n",
              "      <td>Kia</td>\n",
              "      <td>Optima</td>\n",
              "      <td>2006</td>\n",
              "      <td>Other</td>\n",
              "      <td>White</td>\n",
              "      <td>Standard</td>\n",
              "      <td>1.30</td>\n",
              "      <td>Gas</td>\n",
              "      <td>Manual</td>\n",
              "      <td>290000</td>\n",
              "      <td>Taef</td>\n",
              "      <td>6000.00</td>\n",
              "    </tr>\n",
              "    <tr>\n",
              "      <th>2135</th>\n",
              "      <td>Ford</td>\n",
              "      <td>Marquis</td>\n",
              "      <td>2001</td>\n",
              "      <td>Saudi</td>\n",
              "      <td>White</td>\n",
              "      <td>Standard</td>\n",
              "      <td>4.60</td>\n",
              "      <td>Gas</td>\n",
              "      <td>Automatic</td>\n",
              "      <td>350000</td>\n",
              "      <td>Aseer</td>\n",
              "      <td>6000.00</td>\n",
              "    </tr>\n",
              "  </tbody>\n",
              "</table>\n",
              "</div>\n",
              "      <button class=\"colab-df-convert\" onclick=\"convertToInteractive('df-ebfa6e8d-a826-4b26-add2-f423f4cd4c80')\"\n",
              "              title=\"Convert this dataframe to an interactive table.\"\n",
              "              style=\"display:none;\">\n",
              "        \n",
              "  <svg xmlns=\"http://www.w3.org/2000/svg\" height=\"24px\"viewBox=\"0 0 24 24\"\n",
              "       width=\"24px\">\n",
              "    <path d=\"M0 0h24v24H0V0z\" fill=\"none\"/>\n",
              "    <path d=\"M18.56 5.44l.94 2.06.94-2.06 2.06-.94-2.06-.94-.94-2.06-.94 2.06-2.06.94zm-11 1L8.5 8.5l.94-2.06 2.06-.94-2.06-.94L8.5 2.5l-.94 2.06-2.06.94zm10 10l.94 2.06.94-2.06 2.06-.94-2.06-.94-.94-2.06-.94 2.06-2.06.94z\"/><path d=\"M17.41 7.96l-1.37-1.37c-.4-.4-.92-.59-1.43-.59-.52 0-1.04.2-1.43.59L10.3 9.45l-7.72 7.72c-.78.78-.78 2.05 0 2.83L4 21.41c.39.39.9.59 1.41.59.51 0 1.02-.2 1.41-.59l7.78-7.78 2.81-2.81c.8-.78.8-2.07 0-2.86zM5.41 20L4 18.59l7.72-7.72 1.47 1.35L5.41 20z\"/>\n",
              "  </svg>\n",
              "      </button>\n",
              "      \n",
              "  <style>\n",
              "    .colab-df-container {\n",
              "      display:flex;\n",
              "      flex-wrap:wrap;\n",
              "      gap: 12px;\n",
              "    }\n",
              "\n",
              "    .colab-df-convert {\n",
              "      background-color: #E8F0FE;\n",
              "      border: none;\n",
              "      border-radius: 50%;\n",
              "      cursor: pointer;\n",
              "      display: none;\n",
              "      fill: #1967D2;\n",
              "      height: 32px;\n",
              "      padding: 0 0 0 0;\n",
              "      width: 32px;\n",
              "    }\n",
              "\n",
              "    .colab-df-convert:hover {\n",
              "      background-color: #E2EBFA;\n",
              "      box-shadow: 0px 1px 2px rgba(60, 64, 67, 0.3), 0px 1px 3px 1px rgba(60, 64, 67, 0.15);\n",
              "      fill: #174EA6;\n",
              "    }\n",
              "\n",
              "    [theme=dark] .colab-df-convert {\n",
              "      background-color: #3B4455;\n",
              "      fill: #D2E3FC;\n",
              "    }\n",
              "\n",
              "    [theme=dark] .colab-df-convert:hover {\n",
              "      background-color: #434B5C;\n",
              "      box-shadow: 0px 1px 3px 1px rgba(0, 0, 0, 0.15);\n",
              "      filter: drop-shadow(0px 1px 2px rgba(0, 0, 0, 0.3));\n",
              "      fill: #FFFFFF;\n",
              "    }\n",
              "  </style>\n",
              "\n",
              "      <script>\n",
              "        const buttonEl =\n",
              "          document.querySelector('#df-ebfa6e8d-a826-4b26-add2-f423f4cd4c80 button.colab-df-convert');\n",
              "        buttonEl.style.display =\n",
              "          google.colab.kernel.accessAllowed ? 'block' : 'none';\n",
              "\n",
              "        async function convertToInteractive(key) {\n",
              "          const element = document.querySelector('#df-ebfa6e8d-a826-4b26-add2-f423f4cd4c80');\n",
              "          const dataTable =\n",
              "            await google.colab.kernel.invokeFunction('convertToInteractive',\n",
              "                                                     [key], {});\n",
              "          if (!dataTable) return;\n",
              "\n",
              "          const docLinkHtml = 'Like what you see? Visit the ' +\n",
              "            '<a target=\"_blank\" href=https://colab.research.google.com/notebooks/data_table.ipynb>data table notebook</a>'\n",
              "            + ' to learn more about interactive tables.';\n",
              "          element.innerHTML = '';\n",
              "          dataTable['output_type'] = 'display_data';\n",
              "          await google.colab.output.renderOutput(dataTable, element);\n",
              "          const docLink = document.createElement('div');\n",
              "          docLink.innerHTML = docLinkHtml;\n",
              "          element.appendChild(docLink);\n",
              "        }\n",
              "      </script>\n",
              "    </div>\n",
              "  </div>\n",
              "  "
            ]
          },
          "metadata": {},
          "execution_count": 273
        }
      ],
      "source": [
        "#table after removing price below 5000\n",
        "m=df.sort_values(by='Price', ascending=True)\n",
        "m.head()"
      ]
    },
    {
      "cell_type": "code",
      "execution_count": 274,
      "metadata": {
        "colab": {
          "base_uri": "https://localhost:8080/"
        },
        "id": "r0NBJOuoHRZ_",
        "outputId": "07ad98b5-51a6-4126-a9f0-7f987921aa3f"
      },
      "outputs": [
        {
          "output_type": "stream",
          "name": "stdout",
          "text": [
            "duplucated row is  (58, 12)\n"
          ]
        }
      ],
      "source": [
        "#knowing dublicated row \n",
        "from pandas._libs.hashtable import duplicated\n",
        "duplicate_df=df[df.duplicated()]\n",
        "print(\"duplucated row is \",duplicate_df.shape)"
      ]
    },
    {
      "cell_type": "code",
      "execution_count": 275,
      "metadata": {
        "colab": {
          "base_uri": "https://localhost:8080/"
        },
        "id": "ieXopkxaHSqk",
        "outputId": "d614f58c-484e-4ba0-a570-7ec46a2ea99b"
      },
      "outputs": [
        {
          "output_type": "stream",
          "name": "stdout",
          "text": [
            "columns with dublicate rows:\n"
          ]
        },
        {
          "output_type": "execute_result",
          "data": {
            "text/plain": [
              "Make           5547\n",
              "Type           5547\n",
              "Year           5547\n",
              "Origin         5521\n",
              "Color          5547\n",
              "Options        5508\n",
              "Engine_Size    4347\n",
              "Fuel_Type      5547\n",
              "Gear_Type      5529\n",
              "Mileage        5547\n",
              "Region         5547\n",
              "Price          5547\n",
              "dtype: int64"
            ]
          },
          "metadata": {},
          "execution_count": 275
        }
      ],
      "source": [
        "print(\"columns with dublicate rows:\")\n",
        "df.count()  "
      ]
    },
    {
      "cell_type": "code",
      "execution_count": 276,
      "metadata": {
        "colab": {
          "base_uri": "https://localhost:8080/"
        },
        "id": "vpxEtEmsH7hg",
        "outputId": "7775c31c-3e51-4d70-9f1a-cea0a4e27e07"
      },
      "outputs": [
        {
          "output_type": "stream",
          "name": "stdout",
          "text": [
            "columns without dublicate rows:\n"
          ]
        },
        {
          "output_type": "execute_result",
          "data": {
            "text/plain": [
              "Make           5489\n",
              "Type           5489\n",
              "Year           5489\n",
              "Origin         5463\n",
              "Color          5489\n",
              "Options        5450\n",
              "Engine_Size    4300\n",
              "Fuel_Type      5489\n",
              "Gear_Type      5471\n",
              "Mileage        5489\n",
              "Region         5489\n",
              "Price          5489\n",
              "dtype: int64"
            ]
          },
          "metadata": {},
          "execution_count": 276
        }
      ],
      "source": [
        "print(\"columns without dublicate rows:\")\n",
        "df = df.drop_duplicates()\n",
        "df.count()"
      ]
    },
    {
      "cell_type": "code",
      "execution_count": 277,
      "metadata": {
        "colab": {
          "base_uri": "https://localhost:8080/"
        },
        "id": "u003cE8d8wmT",
        "outputId": "32ebef35-0049-4b6b-c020-b3b1fddf378e"
      },
      "outputs": [
        {
          "output_type": "stream",
          "name": "stdout",
          "text": [
            "columns with null values:\n"
          ]
        },
        {
          "output_type": "execute_result",
          "data": {
            "text/plain": [
              "Make              0\n",
              "Type              0\n",
              "Year              0\n",
              "Origin           26\n",
              "Color             0\n",
              "Options          39\n",
              "Engine_Size    1189\n",
              "Fuel_Type         0\n",
              "Gear_Type        18\n",
              "Mileage           0\n",
              "Region            0\n",
              "Price             0\n",
              "dtype: int64"
            ]
          },
          "metadata": {},
          "execution_count": 277
        }
      ],
      "source": [
        "#calculating null values\n",
        "print(\"columns with null values:\")\n",
        "df.isna().sum()"
      ]
    },
    {
      "cell_type": "code",
      "execution_count": 278,
      "metadata": {
        "colab": {
          "base_uri": "https://localhost:8080/"
        },
        "id": "YpP-JYsjGOx9",
        "outputId": "e0733fb9-708d-4313-e185-533ab7561e83"
      },
      "outputs": [
        {
          "output_type": "stream",
          "name": "stdout",
          "text": [
            "columns after removing null values:\n"
          ]
        },
        {
          "output_type": "execute_result",
          "data": {
            "text/plain": [
              "Make           0\n",
              "Type           0\n",
              "Year           0\n",
              "Origin         0\n",
              "Color          0\n",
              "Options        0\n",
              "Engine_Size    0\n",
              "Fuel_Type      0\n",
              "Gear_Type      0\n",
              "Mileage        0\n",
              "Region         0\n",
              "Price          0\n",
              "dtype: int64"
            ]
          },
          "metadata": {},
          "execution_count": 278
        }
      ],
      "source": [
        "print(\"columns after removing null values:\")\n",
        "df = df.dropna()   \n",
        "df.isna().sum()"
      ]
    },
    {
      "cell_type": "code",
      "execution_count": 279,
      "metadata": {
        "colab": {
          "base_uri": "https://localhost:8080/"
        },
        "id": "r9vFrSgCInW-",
        "outputId": "b3c623f9-d772-47fe-cd15-eb910a4fe83c"
      },
      "outputs": [
        {
          "output_type": "stream",
          "name": "stdout",
          "text": [
            "the number of record after cleaning: \n"
          ]
        },
        {
          "output_type": "execute_result",
          "data": {
            "text/plain": [
              "Make           4298\n",
              "Type           4298\n",
              "Year           4298\n",
              "Origin         4298\n",
              "Color          4298\n",
              "Options        4298\n",
              "Engine_Size    4298\n",
              "Fuel_Type      4298\n",
              "Gear_Type      4298\n",
              "Mileage        4298\n",
              "Region         4298\n",
              "Price          4298\n",
              "dtype: int64"
            ]
          },
          "metadata": {},
          "execution_count": 279
        }
      ],
      "source": [
        "print(\"the number of record after cleaning: \")\n",
        "df.count()"
      ]
    },
    {
      "cell_type": "markdown",
      "metadata": {
        "id": "isVEopma7wiN"
      },
      "source": [
        "# Data visualization and outliers"
      ]
    },
    {
      "cell_type": "code",
      "execution_count": 280,
      "metadata": {
        "colab": {
          "base_uri": "https://localhost:8080/",
          "height": 726
        },
        "id": "SxrrdpUA1DLA",
        "outputId": "62713cef-655f-4bc9-b672-ce56d6c77987"
      },
      "outputs": [
        {
          "output_type": "display_data",
          "data": {
            "text/plain": [
              "<Figure size 720x720 with 20 Axes>"
            ],
            "image/png": "[encoded data removed]"
          },
          "metadata": {
            "needs_background": "light"
          }
        }
      ],
      "source": [
        "sns.pairplot(df )\n",
        "plt.savefig('pireplot.png')"
      ]
    },
    {
      "cell_type": "markdown",
      "metadata": {
        "id": "H-gBhL9t1QYl"
      },
      "source": [
        "**From the previous chart, many things were deduced, such as the more the year** **of manufacture of the car increases, and the size of the engine increases with** **the increase in the year of manufacture** **and cars year below 1980 are A very small and unwanted category**"
      ]
    },
    {
      "cell_type": "code",
      "execution_count": 281,
      "metadata": {
        "id": "o1-JVH311EYe"
      },
      "outputs": [],
      "source": [
        "df = df[df.Year > 1980]"
      ]
    },
    {
      "cell_type": "code",
      "execution_count": 282,
      "metadata": {
        "colab": {
          "base_uri": "https://localhost:8080/",
          "height": 514
        },
        "id": "t9O2pDvnZoWG",
        "outputId": "4f020f0c-776f-40a6-98a0-d4fd1ebb62c8"
      },
      "outputs": [
        {
          "output_type": "stream",
          "name": "stderr",
          "text": [
            "/usr/local/lib/python3.7/dist-packages/seaborn/distributions.py:2619: FutureWarning: `distplot` is a deprecated function and will be removed in a future version. Please adapt your code to use either `displot` (a figure-level function with similar flexibility) or `histplot` (an axes-level function for histograms).\n",
            "  warnings.warn(msg, FutureWarning)\n"
          ]
        },
        {
          "output_type": "display_data",
          "data": {
            "text/plain": [
              "<Figure size 1080x504 with 2 Axes>"
            ],
            "image/png": "[encoded data removed]"
          },
          "metadata": {
            "needs_background": "light"
          }
        }
      ],
      "source": [
        "#two charts to display average of cars price\n",
        "plt.figure(figsize=(15,7))\n",
        "#first chart\n",
        "plt.subplot(1,2,1)\n",
        "plt.title('Price Distribution')\n",
        "sns.distplot(df.Price);\n",
        "plt.ticklabel_format(useOffset=False, style='plain', axis=('x'))\n",
        "#second chart\n",
        "plt.subplot(1,2,2)\n",
        "plt.title('Price Spread')\n",
        "sns.boxplot(y=df.Price)\n",
        "plt.ticklabel_format(useOffset=False, style='plain', axis='y')\n",
        "plt.show()"
      ]
    },
    {
      "cell_type": "markdown",
      "metadata": {
        "id": "HlkQX7zb9Hhx"
      },
      "source": [
        "**From the previous chart, it was concluded that the prices of all cars over**\n",
        "**650,000 are considered outliers**  "
      ]
    },
    {
      "cell_type": "code",
      "execution_count": 283,
      "metadata": {
        "id": "426jx7enB-xm"
      },
      "outputs": [],
      "source": [
        "#delet cars price above 650,000\n",
        "df = df[df.Price < 650000]"
      ]
    },
    {
      "cell_type": "code",
      "execution_count": 284,
      "metadata": {
        "colab": {
          "base_uri": "https://localhost:8080/",
          "height": 345
        },
        "id": "WajwRd4Mf1H3",
        "outputId": "878f46bd-58e2-421f-9515-82a1eac1312d"
      },
      "outputs": [
        {
          "output_type": "display_data",
          "data": {
            "text/plain": [
              "<Figure size 720x360 with 1 Axes>"
            ],
            "image/png": "[encoded data removed]"
          },
          "metadata": {
            "needs_background": "light"
          }
        }
      ],
      "source": [
        "#chart showing prices after deleting outliers \n",
        "plt.figure(figsize=(10,5))\n",
        "sns.histplot(df['Price'], kde=True,bins=50, stat='density');\n",
        "plt.savefig('price.png')"
      ]
    },
    {
      "cell_type": "code",
      "execution_count": 285,
      "metadata": {
        "colab": {
          "base_uri": "https://localhost:8080/",
          "height": 369
        },
        "id": "8Sth7QZ3p2bS",
        "outputId": "1d987783-d597-4673-a2a6-f2b8aca789db"
      },
      "outputs": [
        {
          "output_type": "execute_result",
          "data": {
            "text/plain": [
              "<matplotlib.axes._subplots.AxesSubplot at 0x7fcd07652710>"
            ]
          },
          "metadata": {},
          "execution_count": 285
        },
        {
          "output_type": "display_data",
          "data": {
            "text/plain": [
              "<Figure size 720x360 with 1 Axes>"
            ],
            "image/png": "[encoded data removed]"
          },
          "metadata": {
            "needs_background": "light"
          }
        }
      ],
      "source": [
        "#top 10 prices and their frequently\n",
        "df.Price.value_counts().nlargest(10).plot(kind=\"bar\",figsize=(10,5))"
      ]
    },
    {
      "cell_type": "code",
      "execution_count": 286,
      "metadata": {
        "colab": {
          "base_uri": "https://localhost:8080/",
          "height": 484
        },
        "id": "bSn07D6SrlXl",
        "outputId": "18639a12-2cf3-47c8-809f-8c5f77b0dec0"
      },
      "outputs": [
        {
          "output_type": "execute_result",
          "data": {
            "text/plain": [
              "<matplotlib.axes._subplots.AxesSubplot at 0x7fcd074ce890>"
            ]
          },
          "metadata": {},
          "execution_count": 286
        },
        {
          "output_type": "display_data",
          "data": {
            "text/plain": [
              "<Figure size 720x576 with 1 Axes>"
            ],
            "image/png": "[encoded data removed]"
          },
          "metadata": {}
        }
      ],
      "source": [
        "#top 10 most used car companies\n",
        "df.Make.value_counts().nlargest(10).plot(kind=\"pie\",autopct='%1.1f%%',figsize=(10,8))"
      ]
    },
    {
      "cell_type": "markdown",
      "metadata": {
        "id": "xcLGKDgDK4vi"
      },
      "source": [
        "**From the previous chart, it was concluded that the toyota is the most car company used**"
      ]
    },
    {
      "cell_type": "code",
      "execution_count": 287,
      "metadata": {
        "colab": {
          "base_uri": "https://localhost:8080/",
          "height": 501
        },
        "id": "L69A9yy41riw",
        "outputId": "c532cfff-e1d8-4a02-9998-50ff17420291"
      },
      "outputs": [
        {
          "output_type": "execute_result",
          "data": {
            "text/plain": [
              "<matplotlib.axes._subplots.AxesSubplot at 0x7fcd074b01d0>"
            ]
          },
          "metadata": {},
          "execution_count": 287
        },
        {
          "output_type": "display_data",
          "data": {
            "text/plain": [
              "<Figure size 720x576 with 1 Axes>"
            ],
            "image/png": "[encoded data removed]"
          },
          "metadata": {
            "needs_background": "light"
          }
        }
      ],
      "source": [
        "#top 10 most toyoat cars used\n",
        "mask=(df.Make == \"Toyota\")\n",
        "df[mask].Type.value_counts().nlargest(10).plot(kind=\"barh\",figsize=(10,8))"
      ]
    },
    {
      "cell_type": "markdown",
      "metadata": {
        "id": "L_HAh7OYM2_d"
      },
      "source": [
        "**From the previous chart, it was concluded that the camry is the most car used** **in toyota and we calculate some information about it:** "
      ]
    },
    {
      "cell_type": "code",
      "execution_count": 288,
      "metadata": {
        "colab": {
          "base_uri": "https://localhost:8080/",
          "height": 300
        },
        "id": "TP76Waq6NY-h",
        "outputId": "aa83561c-20af-4b5e-8025-23e0207f1285"
      },
      "outputs": [
        {
          "output_type": "execute_result",
          "data": {
            "text/plain": [
              "         Year  Engine_Size    Mileage     Price\n",
              "count  156.00       156.00     156.00    156.00\n",
              "mean  2014.55         2.52  178555.21  53589.10\n",
              "std      4.90         0.87  366697.88  23915.92\n",
              "min   1999.00         1.00     102.00  10000.00\n",
              "25%   2014.00         2.40   59500.00  38000.00\n",
              "50%   2016.00         2.50  118275.00  54000.00\n",
              "75%   2017.00         2.50  226250.00  67250.00\n",
              "max   2020.00         9.00 4430000.00 126000.00"
            ],
            "text/html": [
              "\n",
              "  <div id=\"df-9fb721ac-8882-429e-ba99-a4380c35b4ef\">\n",
              "    <div class=\"colab-df-container\">\n",
              "      <div>\n",
              "<style scoped>\n",
              "    .dataframe tbody tr th:only-of-type {\n",
              "        vertical-align: middle;\n",
              "    }\n",
              "\n",
              "    .dataframe tbody tr th {\n",
              "        vertical-align: top;\n",
              "    }\n",
              "\n",
              "    .dataframe thead th {\n",
              "        text-align: right;\n",
              "    }\n",
              "</style>\n",
              "<table border=\"1\" class=\"dataframe\">\n",
              "  <thead>\n",
              "    <tr style=\"text-align: right;\">\n",
              "      <th></th>\n",
              "      <th>Year</th>\n",
              "      <th>Engine_Size</th>\n",
              "      <th>Mileage</th>\n",
              "      <th>Price</th>\n",
              "    </tr>\n",
              "  </thead>\n",
              "  <tbody>\n",
              "    <tr>\n",
              "      <th>count</th>\n",
              "      <td>156.00</td>\n",
              "      <td>156.00</td>\n",
              "      <td>156.00</td>\n",
              "      <td>156.00</td>\n",
              "    </tr>\n",
              "    <tr>\n",
              "      <th>mean</th>\n",
              "      <td>2014.55</td>\n",
              "      <td>2.52</td>\n",
              "      <td>178555.21</td>\n",
              "      <td>53589.10</td>\n",
              "    </tr>\n",
              "    <tr>\n",
              "      <th>std</th>\n",
              "      <td>4.90</td>\n",
              "      <td>0.87</td>\n",
              "      <td>366697.88</td>\n",
              "      <td>23915.92</td>\n",
              "    </tr>\n",
              "    <tr>\n",
              "      <th>min</th>\n",
              "      <td>1999.00</td>\n",
              "      <td>1.00</td>\n",
              "      <td>102.00</td>\n",
              "      <td>10000.00</td>\n",
              "    </tr>\n",
              "    <tr>\n",
              "      <th>25%</th>\n",
              "      <td>2014.00</td>\n",
              "      <td>2.40</td>\n",
              "      <td>59500.00</td>\n",
              "      <td>38000.00</td>\n",
              "    </tr>\n",
              "    <tr>\n",
              "      <th>50%</th>\n",
              "      <td>2016.00</td>\n",
              "      <td>2.50</td>\n",
              "      <td>118275.00</td>\n",
              "      <td>54000.00</td>\n",
              "    </tr>\n",
              "    <tr>\n",
              "      <th>75%</th>\n",
              "      <td>2017.00</td>\n",
              "      <td>2.50</td>\n",
              "      <td>226250.00</td>\n",
              "      <td>67250.00</td>\n",
              "    </tr>\n",
              "    <tr>\n",
              "      <th>max</th>\n",
              "      <td>2020.00</td>\n",
              "      <td>9.00</td>\n",
              "      <td>4430000.00</td>\n",
              "      <td>126000.00</td>\n",
              "    </tr>\n",
              "  </tbody>\n",
              "</table>\n",
              "</div>\n",
              "      <button class=\"colab-df-convert\" onclick=\"convertToInteractive('df-9fb721ac-8882-429e-ba99-a4380c35b4ef')\"\n",
              "              title=\"Convert this dataframe to an interactive table.\"\n",
              "              style=\"display:none;\">\n",
              "        \n",
              "  <svg xmlns=\"http://www.w3.org/2000/svg\" height=\"24px\"viewBox=\"0 0 24 24\"\n",
              "       width=\"24px\">\n",
              "    <path d=\"M0 0h24v24H0V0z\" fill=\"none\"/>\n",
              "    <path d=\"M18.56 5.44l.94 2.06.94-2.06 2.06-.94-2.06-.94-.94-2.06-.94 2.06-2.06.94zm-11 1L8.5 8.5l.94-2.06 2.06-.94-2.06-.94L8.5 2.5l-.94 2.06-2.06.94zm10 10l.94 2.06.94-2.06 2.06-.94-2.06-.94-.94-2.06-.94 2.06-2.06.94z\"/><path d=\"M17.41 7.96l-1.37-1.37c-.4-.4-.92-.59-1.43-.59-.52 0-1.04.2-1.43.59L10.3 9.45l-7.72 7.72c-.78.78-.78 2.05 0 2.83L4 21.41c.39.39.9.59 1.41.59.51 0 1.02-.2 1.41-.59l7.78-7.78 2.81-2.81c.8-.78.8-2.07 0-2.86zM5.41 20L4 18.59l7.72-7.72 1.47 1.35L5.41 20z\"/>\n",
              "  </svg>\n",
              "      </button>\n",
              "      \n",
              "  <style>\n",
              "    .colab-df-container {\n",
              "      display:flex;\n",
              "      flex-wrap:wrap;\n",
              "      gap: 12px;\n",
              "    }\n",
              "\n",
              "    .colab-df-convert {\n",
              "      background-color: #E8F0FE;\n",
              "      border: none;\n",
              "      border-radius: 50%;\n",
              "      cursor: pointer;\n",
              "      display: none;\n",
              "      fill: #1967D2;\n",
              "      height: 32px;\n",
              "      padding: 0 0 0 0;\n",
              "      width: 32px;\n",
              "    }\n",
              "\n",
              "    .colab-df-convert:hover {\n",
              "      background-color: #E2EBFA;\n",
              "      box-shadow: 0px 1px 2px rgba(60, 64, 67, 0.3), 0px 1px 3px 1px rgba(60, 64, 67, 0.15);\n",
              "      fill: #174EA6;\n",
              "    }\n",
              "\n",
              "    [theme=dark] .colab-df-convert {\n",
              "      background-color: #3B4455;\n",
              "      fill: #D2E3FC;\n",
              "    }\n",
              "\n",
              "    [theme=dark] .colab-df-convert:hover {\n",
              "      background-color: #434B5C;\n",
              "      box-shadow: 0px 1px 3px 1px rgba(0, 0, 0, 0.15);\n",
              "      filter: drop-shadow(0px 1px 2px rgba(0, 0, 0, 0.3));\n",
              "      fill: #FFFFFF;\n",
              "    }\n",
              "  </style>\n",
              "\n",
              "      <script>\n",
              "        const buttonEl =\n",
              "          document.querySelector('#df-9fb721ac-8882-429e-ba99-a4380c35b4ef button.colab-df-convert');\n",
              "        buttonEl.style.display =\n",
              "          google.colab.kernel.accessAllowed ? 'block' : 'none';\n",
              "\n",
              "        async function convertToInteractive(key) {\n",
              "          const element = document.querySelector('#df-9fb721ac-8882-429e-ba99-a4380c35b4ef');\n",
              "          const dataTable =\n",
              "            await google.colab.kernel.invokeFunction('convertToInteractive',\n",
              "                                                     [key], {});\n",
              "          if (!dataTable) return;\n",
              "\n",
              "          const docLinkHtml = 'Like what you see? Visit the ' +\n",
              "            '<a target=\"_blank\" href=https://colab.research.google.com/notebooks/data_table.ipynb>data table notebook</a>'\n",
              "            + ' to learn more about interactive tables.';\n",
              "          element.innerHTML = '';\n",
              "          dataTable['output_type'] = 'display_data';\n",
              "          await google.colab.output.renderOutput(dataTable, element);\n",
              "          const docLink = document.createElement('div');\n",
              "          docLink.innerHTML = docLinkHtml;\n",
              "          element.appendChild(docLink);\n",
              "        }\n",
              "      </script>\n",
              "    </div>\n",
              "  </div>\n",
              "  "
            ]
          },
          "metadata": {},
          "execution_count": 288
        }
      ],
      "source": [
        "#information about camry\n",
        "mask=(df.Make == \"Toyota\")&(df.Type == \"Camry\")\n",
        "df[mask].describe()"
      ]
    },
    {
      "cell_type": "code",
      "execution_count": 289,
      "metadata": {
        "colab": {
          "base_uri": "https://localhost:8080/",
          "height": 300
        },
        "id": "CbOHisboPshd",
        "outputId": "25e81135-422a-4f47-9fd0-0d707acac560"
      },
      "outputs": [
        {
          "output_type": "execute_result",
          "data": {
            "text/plain": [
              "         Year  Engine_Size    Mileage     Price\n",
              "count  990.00       990.00     990.00    990.00\n",
              "mean  2015.19         2.97  149549.21  81157.58\n",
              "std      5.04         1.29  213066.25  54951.71\n",
              "min   1983.00         1.00     100.00   6500.00\n",
              "25%   2014.00         2.00   50000.00  45000.00\n",
              "50%   2016.00         2.70  113500.00  66000.00\n",
              "75%   2018.00         4.00  201000.00 104125.00\n",
              "max   2021.00         9.00 4430000.00 305000.00"
            ],
            "text/html": [
              "\n",
              "  <div id=\"df-1781e7e7-dc34-499b-bd41-51c324597770\">\n",
              "    <div class=\"colab-df-container\">\n",
              "      <div>\n",
              "<style scoped>\n",
              "    .dataframe tbody tr th:only-of-type {\n",
              "        vertical-align: middle;\n",
              "    }\n",
              "\n",
              "    .dataframe tbody tr th {\n",
              "        vertical-align: top;\n",
              "    }\n",
              "\n",
              "    .dataframe thead th {\n",
              "        text-align: right;\n",
              "    }\n",
              "</style>\n",
              "<table border=\"1\" class=\"dataframe\">\n",
              "  <thead>\n",
              "    <tr style=\"text-align: right;\">\n",
              "      <th></th>\n",
              "      <th>Year</th>\n",
              "      <th>Engine_Size</th>\n",
              "      <th>Mileage</th>\n",
              "      <th>Price</th>\n",
              "    </tr>\n",
              "  </thead>\n",
              "  <tbody>\n",
              "    <tr>\n",
              "      <th>count</th>\n",
              "      <td>990.00</td>\n",
              "      <td>990.00</td>\n",
              "      <td>990.00</td>\n",
              "      <td>990.00</td>\n",
              "    </tr>\n",
              "    <tr>\n",
              "      <th>mean</th>\n",
              "      <td>2015.19</td>\n",
              "      <td>2.97</td>\n",
              "      <td>149549.21</td>\n",
              "      <td>81157.58</td>\n",
              "    </tr>\n",
              "    <tr>\n",
              "      <th>std</th>\n",
              "      <td>5.04</td>\n",
              "      <td>1.29</td>\n",
              "      <td>213066.25</td>\n",
              "      <td>54951.71</td>\n",
              "    </tr>\n",
              "    <tr>\n",
              "      <th>min</th>\n",
              "      <td>1983.00</td>\n",
              "      <td>1.00</td>\n",
              "      <td>100.00</td>\n",
              "      <td>6500.00</td>\n",
              "    </tr>\n",
              "    <tr>\n",
              "      <th>25%</th>\n",
              "      <td>2014.00</td>\n",
              "      <td>2.00</td>\n",
              "      <td>50000.00</td>\n",
              "      <td>45000.00</td>\n",
              "    </tr>\n",
              "    <tr>\n",
              "      <th>50%</th>\n",
              "      <td>2016.00</td>\n",
              "      <td>2.70</td>\n",
              "      <td>113500.00</td>\n",
              "      <td>66000.00</td>\n",
              "    </tr>\n",
              "    <tr>\n",
              "      <th>75%</th>\n",
              "      <td>2018.00</td>\n",
              "      <td>4.00</td>\n",
              "      <td>201000.00</td>\n",
              "      <td>104125.00</td>\n",
              "    </tr>\n",
              "    <tr>\n",
              "      <th>max</th>\n",
              "      <td>2021.00</td>\n",
              "      <td>9.00</td>\n",
              "      <td>4430000.00</td>\n",
              "      <td>305000.00</td>\n",
              "    </tr>\n",
              "  </tbody>\n",
              "</table>\n",
              "</div>\n",
              "      <button class=\"colab-df-convert\" onclick=\"convertToInteractive('df-1781e7e7-dc34-499b-bd41-51c324597770')\"\n",
              "              title=\"Convert this dataframe to an interactive table.\"\n",
              "              style=\"display:none;\">\n",
              "        \n",
              "  <svg xmlns=\"http://www.w3.org/2000/svg\" height=\"24px\"viewBox=\"0 0 24 24\"\n",
              "       width=\"24px\">\n",
              "    <path d=\"M0 0h24v24H0V0z\" fill=\"none\"/>\n",
              "    <path d=\"M18.56 5.44l.94 2.06.94-2.06 2.06-.94-2.06-.94-.94-2.06-.94 2.06-2.06.94zm-11 1L8.5 8.5l.94-2.06 2.06-.94-2.06-.94L8.5 2.5l-.94 2.06-2.06.94zm10 10l.94 2.06.94-2.06 2.06-.94-2.06-.94-.94-2.06-.94 2.06-2.06.94z\"/><path d=\"M17.41 7.96l-1.37-1.37c-.4-.4-.92-.59-1.43-.59-.52 0-1.04.2-1.43.59L10.3 9.45l-7.72 7.72c-.78.78-.78 2.05 0 2.83L4 21.41c.39.39.9.59 1.41.59.51 0 1.02-.2 1.41-.59l7.78-7.78 2.81-2.81c.8-.78.8-2.07 0-2.86zM5.41 20L4 18.59l7.72-7.72 1.47 1.35L5.41 20z\"/>\n",
              "  </svg>\n",
              "      </button>\n",
              "      \n",
              "  <style>\n",
              "    .colab-df-container {\n",
              "      display:flex;\n",
              "      flex-wrap:wrap;\n",
              "      gap: 12px;\n",
              "    }\n",
              "\n",
              "    .colab-df-convert {\n",
              "      background-color: #E8F0FE;\n",
              "      border: none;\n",
              "      border-radius: 50%;\n",
              "      cursor: pointer;\n",
              "      display: none;\n",
              "      fill: #1967D2;\n",
              "      height: 32px;\n",
              "      padding: 0 0 0 0;\n",
              "      width: 32px;\n",
              "    }\n",
              "\n",
              "    .colab-df-convert:hover {\n",
              "      background-color: #E2EBFA;\n",
              "      box-shadow: 0px 1px 2px rgba(60, 64, 67, 0.3), 0px 1px 3px 1px rgba(60, 64, 67, 0.15);\n",
              "      fill: #174EA6;\n",
              "    }\n",
              "\n",
              "    [theme=dark] .colab-df-convert {\n",
              "      background-color: #3B4455;\n",
              "      fill: #D2E3FC;\n",
              "    }\n",
              "\n",
              "    [theme=dark] .colab-df-convert:hover {\n",
              "      background-color: #434B5C;\n",
              "      box-shadow: 0px 1px 3px 1px rgba(0, 0, 0, 0.15);\n",
              "      filter: drop-shadow(0px 1px 2px rgba(0, 0, 0, 0.3));\n",
              "      fill: #FFFFFF;\n",
              "    }\n",
              "  </style>\n",
              "\n",
              "      <script>\n",
              "        const buttonEl =\n",
              "          document.querySelector('#df-1781e7e7-dc34-499b-bd41-51c324597770 button.colab-df-convert');\n",
              "        buttonEl.style.display =\n",
              "          google.colab.kernel.accessAllowed ? 'block' : 'none';\n",
              "\n",
              "        async function convertToInteractive(key) {\n",
              "          const element = document.querySelector('#df-1781e7e7-dc34-499b-bd41-51c324597770');\n",
              "          const dataTable =\n",
              "            await google.colab.kernel.invokeFunction('convertToInteractive',\n",
              "                                                     [key], {});\n",
              "          if (!dataTable) return;\n",
              "\n",
              "          const docLinkHtml = 'Like what you see? Visit the ' +\n",
              "            '<a target=\"_blank\" href=https://colab.research.google.com/notebooks/data_table.ipynb>data table notebook</a>'\n",
              "            + ' to learn more about interactive tables.';\n",
              "          element.innerHTML = '';\n",
              "          dataTable['output_type'] = 'display_data';\n",
              "          await google.colab.output.renderOutput(dataTable, element);\n",
              "          const docLink = document.createElement('div');\n",
              "          docLink.innerHTML = docLinkHtml;\n",
              "          element.appendChild(docLink);\n",
              "        }\n",
              "      </script>\n",
              "    </div>\n",
              "  </div>\n",
              "  "
            ]
          },
          "metadata": {},
          "execution_count": 289
        }
      ],
      "source": [
        "#information about toyota cars\n",
        "mask=(df.Make == \"Toyota\")\n",
        "df[mask].describe()"
      ]
    },
    {
      "cell_type": "code",
      "execution_count": 290,
      "metadata": {
        "colab": {
          "base_uri": "https://localhost:8080/",
          "height": 446
        },
        "id": "peH0hif4sSQc",
        "outputId": "c0bb9099-e2ab-428e-fd0f-eb1f9a1ba60a"
      },
      "outputs": [
        {
          "output_type": "execute_result",
          "data": {
            "text/plain": [
              "<matplotlib.axes._subplots.AxesSubplot at 0x7fcd073618d0>"
            ]
          },
          "metadata": {},
          "execution_count": 290
        },
        {
          "output_type": "display_data",
          "data": {
            "text/plain": [
              "<Figure size 504x504 with 1 Axes>"
            ],
            "image/png": "[encoded data removed]"
          },
          "metadata": {
            "needs_background": "light"
          }
        }
      ],
      "source": [
        "#display the percentage of top 10 types from all companies\n",
        "df.Type.value_counts().nlargest(10).plot(kind=\"barh\",figsize=(7,7))"
      ]
    },
    {
      "cell_type": "code",
      "execution_count": 291,
      "metadata": {
        "colab": {
          "base_uri": "https://localhost:8080/",
          "height": 441
        },
        "id": "iXm1FutzwiCn",
        "outputId": "a3132b97-a780-4149-87b7-bdc7c0d255eb"
      },
      "outputs": [
        {
          "output_type": "display_data",
          "data": {
            "text/plain": [
              "<Figure size 1296x432 with 3 Axes>"
            ],
            "image/png": "[encoded data removed]"
          },
          "metadata": {
            "needs_background": "light"
          }
        }
      ],
      "source": [
        "#comparsion between the types of origin\n",
        "g = sns.FacetGrid(df, col='Origin', sharex=True, sharey=True ,height=6, aspect=1)\n",
        "g.map(sns.histplot, 'Price',stat='density', kde=True);\n",
        "plt.savefig('origin.png')"
      ]
    },
    {
      "cell_type": "markdown",
      "metadata": {
        "id": "uhAAEhJDF0Av"
      },
      "source": [
        "there is no different in price according origin of car"
      ]
    },
    {
      "cell_type": "code",
      "execution_count": 292,
      "metadata": {
        "colab": {
          "base_uri": "https://localhost:8080/",
          "height": 608
        },
        "id": "SQmkghUbDUtq",
        "outputId": "ac05b644-d75c-4b5a-bf37-46512ba10eef"
      },
      "outputs": [
        {
          "output_type": "display_data",
          "data": {
            "text/plain": [
              "<Figure size 1368x648 with 3 Axes>"
            ],
            "image/png": "[encoded data removed]"
          },
          "metadata": {
            "needs_background": "light"
          }
        }
      ],
      "source": [
        "#comparsion between diffrent columns (Gear),(Fuel type),(Car options) in using\n",
        "plt.figure(figsize=(19,9))\n",
        "\n",
        "plt.subplot(1,3,1)\n",
        "plt1 = df.Gear_Type.value_counts().plot(kind='bar',  edgecolor='black')\n",
        "plt.title('Gear tyoe Histogram')\n",
        "plt1.set(xlabel = 'Gear', ylabel='Frequency of Gear')\n",
        "\n",
        "plt.subplot(1,3,2)\n",
        "plt1 = df.Fuel_Type.value_counts().plot(kind='bar',  edgecolor='black')\n",
        "plt.title('Fuel Type Histogram')\n",
        "plt1.set(xlabel = 'Fuel Type', ylabel='Frequency of fuel type')\n",
        "\n",
        "plt.subplot(1,3,3)\n",
        "plt1 = df.Options.value_counts().plot(kind='bar',  edgecolor='black')\n",
        "plt.title('Car Options Histogram')\n",
        "plt1.set(xlabel = 'Car Options', ylabel='Frequency of Car type')\n",
        "\n",
        "plt.show()\n"
      ]
    },
    {
      "cell_type": "code",
      "execution_count": 293,
      "metadata": {
        "colab": {
          "base_uri": "https://localhost:8080/",
          "height": 280
        },
        "id": "U_puDnHUJieN",
        "outputId": "3863bdbd-fd74-45da-d98c-298b9d1bbd0d"
      },
      "outputs": [
        {
          "output_type": "display_data",
          "data": {
            "text/plain": [
              "<Figure size 432x288 with 1 Axes>"
            ],
            "image/png": "[encoded data removed]"
          },
          "metadata": {
            "needs_background": "light"
          }
        }
      ],
      "source": [
        "#comparision between Gear types in price \n",
        "sns.barplot(x = 'Gear_Type', y = 'Price', data = df)\n",
        " \n",
        "# Show the plot\n",
        "plt.show()"
      ]
    },
    {
      "cell_type": "markdown",
      "metadata": {
        "id": "pCm4rkDvQ0yw"
      },
      "source": [
        "**From the previous chart, it was concluded that the automatic cars are more expensive than manual cars and more using**"
      ]
    },
    {
      "cell_type": "code",
      "execution_count": 294,
      "metadata": {
        "colab": {
          "base_uri": "https://localhost:8080/",
          "height": 483
        },
        "id": "pLrnCgMDaKoP",
        "outputId": "65897afa-e1e2-45b1-817a-aaea24d71667"
      },
      "outputs": [
        {
          "output_type": "execute_result",
          "data": {
            "text/plain": [
              "             Year  Engine_Size  Mileage  Price\n",
              "Year         1.00        -0.24    -0.34   0.32\n",
              "Engine_Size -0.24         1.00     0.09   0.36\n",
              "Mileage     -0.34         0.09     1.00  -0.20\n",
              "Price        0.32         0.36    -0.20   1.00"
            ],
            "text/html": [
              "\n",
              "  <div id=\"df-1e2054d3-3503-43fe-823f-64942fd3c4cc\">\n",
              "    <div class=\"colab-df-container\">\n",
              "      <div>\n",
              "<style scoped>\n",
              "    .dataframe tbody tr th:only-of-type {\n",
              "        vertical-align: middle;\n",
              "    }\n",
              "\n",
              "    .dataframe tbody tr th {\n",
              "        vertical-align: top;\n",
              "    }\n",
              "\n",
              "    .dataframe thead th {\n",
              "        text-align: right;\n",
              "    }\n",
              "</style>\n",
              "<table border=\"1\" class=\"dataframe\">\n",
              "  <thead>\n",
              "    <tr style=\"text-align: right;\">\n",
              "      <th></th>\n",
              "      <th>Year</th>\n",
              "      <th>Engine_Size</th>\n",
              "      <th>Mileage</th>\n",
              "      <th>Price</th>\n",
              "    </tr>\n",
              "  </thead>\n",
              "  <tbody>\n",
              "    <tr>\n",
              "      <th>Year</th>\n",
              "      <td>1.00</td>\n",
              "      <td>-0.24</td>\n",
              "      <td>-0.34</td>\n",
              "      <td>0.32</td>\n",
              "    </tr>\n",
              "    <tr>\n",
              "      <th>Engine_Size</th>\n",
              "      <td>-0.24</td>\n",
              "      <td>1.00</td>\n",
              "      <td>0.09</td>\n",
              "      <td>0.36</td>\n",
              "    </tr>\n",
              "    <tr>\n",
              "      <th>Mileage</th>\n",
              "      <td>-0.34</td>\n",
              "      <td>0.09</td>\n",
              "      <td>1.00</td>\n",
              "      <td>-0.20</td>\n",
              "    </tr>\n",
              "    <tr>\n",
              "      <th>Price</th>\n",
              "      <td>0.32</td>\n",
              "      <td>0.36</td>\n",
              "      <td>-0.20</td>\n",
              "      <td>1.00</td>\n",
              "    </tr>\n",
              "  </tbody>\n",
              "</table>\n",
              "</div>\n",
              "      <button class=\"colab-df-convert\" onclick=\"convertToInteractive('df-1e2054d3-3503-43fe-823f-64942fd3c4cc')\"\n",
              "              title=\"Convert this dataframe to an interactive table.\"\n",
              "              style=\"display:none;\">\n",
              "        \n",
              "  <svg xmlns=\"http://www.w3.org/2000/svg\" height=\"24px\"viewBox=\"0 0 24 24\"\n",
              "       width=\"24px\">\n",
              "    <path d=\"M0 0h24v24H0V0z\" fill=\"none\"/>\n",
              "    <path d=\"M18.56 5.44l.94 2.06.94-2.06 2.06-.94-2.06-.94-.94-2.06-.94 2.06-2.06.94zm-11 1L8.5 8.5l.94-2.06 2.06-.94-2.06-.94L8.5 2.5l-.94 2.06-2.06.94zm10 10l.94 2.06.94-2.06 2.06-.94-2.06-.94-.94-2.06-.94 2.06-2.06.94z\"/><path d=\"M17.41 7.96l-1.37-1.37c-.4-.4-.92-.59-1.43-.59-.52 0-1.04.2-1.43.59L10.3 9.45l-7.72 7.72c-.78.78-.78 2.05 0 2.83L4 21.41c.39.39.9.59 1.41.59.51 0 1.02-.2 1.41-.59l7.78-7.78 2.81-2.81c.8-.78.8-2.07 0-2.86zM5.41 20L4 18.59l7.72-7.72 1.47 1.35L5.41 20z\"/>\n",
              "  </svg>\n",
              "      </button>\n",
              "      \n",
              "  <style>\n",
              "    .colab-df-container {\n",
              "      display:flex;\n",
              "      flex-wrap:wrap;\n",
              "      gap: 12px;\n",
              "    }\n",
              "\n",
              "    .colab-df-convert {\n",
              "      background-color: #E8F0FE;\n",
              "      border: none;\n",
              "      border-radius: 50%;\n",
              "      cursor: pointer;\n",
              "      display: none;\n",
              "      fill: #1967D2;\n",
              "      height: 32px;\n",
              "      padding: 0 0 0 0;\n",
              "      width: 32px;\n",
              "    }\n",
              "\n",
              "    .colab-df-convert:hover {\n",
              "      background-color: #E2EBFA;\n",
              "      box-shadow: 0px 1px 2px rgba(60, 64, 67, 0.3), 0px 1px 3px 1px rgba(60, 64, 67, 0.15);\n",
              "      fill: #174EA6;\n",
              "    }\n",
              "\n",
              "    [theme=dark] .colab-df-convert {\n",
              "      background-color: #3B4455;\n",
              "      fill: #D2E3FC;\n",
              "    }\n",
              "\n",
              "    [theme=dark] .colab-df-convert:hover {\n",
              "      background-color: #434B5C;\n",
              "      box-shadow: 0px 1px 3px 1px rgba(0, 0, 0, 0.15);\n",
              "      filter: drop-shadow(0px 1px 2px rgba(0, 0, 0, 0.3));\n",
              "      fill: #FFFFFF;\n",
              "    }\n",
              "  </style>\n",
              "\n",
              "      <script>\n",
              "        const buttonEl =\n",
              "          document.querySelector('#df-1e2054d3-3503-43fe-823f-64942fd3c4cc button.colab-df-convert');\n",
              "        buttonEl.style.display =\n",
              "          google.colab.kernel.accessAllowed ? 'block' : 'none';\n",
              "\n",
              "        async function convertToInteractive(key) {\n",
              "          const element = document.querySelector('#df-1e2054d3-3503-43fe-823f-64942fd3c4cc');\n",
              "          const dataTable =\n",
              "            await google.colab.kernel.invokeFunction('convertToInteractive',\n",
              "                                                     [key], {});\n",
              "          if (!dataTable) return;\n",
              "\n",
              "          const docLinkHtml = 'Like what you see? Visit the ' +\n",
              "            '<a target=\"_blank\" href=https://colab.research.google.com/notebooks/data_table.ipynb>data table notebook</a>'\n",
              "            + ' to learn more about interactive tables.';\n",
              "          element.innerHTML = '';\n",
              "          dataTable['output_type'] = 'display_data';\n",
              "          await google.colab.output.renderOutput(dataTable, element);\n",
              "          const docLink = document.createElement('div');\n",
              "          docLink.innerHTML = docLinkHtml;\n",
              "          element.appendChild(docLink);\n",
              "        }\n",
              "      </script>\n",
              "    </div>\n",
              "  </div>\n",
              "  "
            ]
          },
          "metadata": {},
          "execution_count": 294
        },
        {
          "output_type": "display_data",
          "data": {
            "text/plain": [
              "<Figure size 720x360 with 2 Axes>"
            ],
            "image/png": "[encoded data removed]"
          },
          "metadata": {
            "needs_background": "light"
          }
        }
      ],
      "source": [
        "plt.figure(figsize=(10,5))\n",
        "c= df.corr()\n",
        "sns.heatmap(c,cmap=\"Blues\",annot=True)\n",
        "c"
      ]
    },
    {
      "cell_type": "code",
      "execution_count": 295,
      "metadata": {
        "colab": {
          "base_uri": "https://localhost:8080/"
        },
        "id": "ZV7uCGicYwQJ",
        "outputId": "33110c94-39c5-4114-bdf0-89aad027d288"
      },
      "outputs": [
        {
          "output_type": "execute_result",
          "data": {
            "text/plain": [
              "(4287, 12)"
            ]
          },
          "metadata": {},
          "execution_count": 295
        }
      ],
      "source": [
        "df.shape"
      ]
    },
    {
      "cell_type": "markdown",
      "metadata": {
        "id": "6gk-gh9_xwlz"
      },
      "source": [
        "Here we make compersion between top 3 cars according frequency about how mach they save them value after 5 years"
      ]
    },
    {
      "cell_type": "code",
      "execution_count": 296,
      "metadata": {
        "colab": {
          "base_uri": "https://localhost:8080/"
        },
        "id": "jeOzqzRotibR",
        "outputId": "857b997a-36e3-4f4e-fd06-e1ebb2c55242"
      },
      "outputs": [
        {
          "output_type": "stream",
          "name": "stdout",
          "text": [
            "The price Camry of after 5 year of use = 68.67647058823529 % of original price\n"
          ]
        }
      ],
      "source": [
        "mask=(df.Make == \"Toyota\")&(df.Type == \"Camry\")&(df.Year == 2017)\n",
        "x=df[mask].Price.agg('mean')\n",
        "print(\"The price Camry of after 5 year of use =\",x/85000*100,\"% of original price\")  #85000 is the original price for new camry back in 2017"
      ]
    },
    {
      "cell_type": "code",
      "execution_count": 297,
      "metadata": {
        "colab": {
          "base_uri": "https://localhost:8080/"
        },
        "id": "RTKTw7kiw8UR",
        "outputId": "2fe5f29b-1122-48d7-d842-a4211215e259"
      },
      "outputs": [
        {
          "output_type": "stream",
          "name": "stdout",
          "text": [
            "The price of Accent after 5 year of use  60.339506172839506 % of original price\n"
          ]
        }
      ],
      "source": [
        "mask=(df.Make == \"Hyundai\")&(df.Type == \"Accent\")&(df.Year == 2017)\n",
        "x=df[mask].Price.agg('mean')\n",
        "print(\"The price of Accent after 5 year of use \",x/48000*100,\"% of original price\") #48000 is the original price for new accent back in 2017"
      ]
    },
    {
      "cell_type": "code",
      "execution_count": 298,
      "metadata": {
        "colab": {
          "base_uri": "https://localhost:8080/"
        },
        "id": "QnLFor4hxapt",
        "outputId": "6e79322c-598b-4278-c5b8-07d19fb44415"
      },
      "outputs": [
        {
          "output_type": "stream",
          "name": "stdout",
          "text": [
            "The price of Land Cruiser after 5 year of use  83.89057750759878 % of original price\n"
          ]
        }
      ],
      "source": [
        "mask=(df.Make == \"Toyota\")&(df.Type == \"Land Cruiser\")&(df.Year == 2017)\n",
        "x=df[mask].Price.agg('mean')\n",
        "print(\"The price of Land Cruiser after 5 year of use \",x/235000*100,\"% of original price\") #235000 is the original price for new Land Cruiser back in 2017"
      ]
    },
    {
      "cell_type": "code",
      "execution_count": 299,
      "metadata": {
        "colab": {
          "base_uri": "https://localhost:8080/",
          "height": 206
        },
        "id": "sEv5xdY59I3k",
        "outputId": "d1800625-f080-401b-957a-481293194089"
      },
      "outputs": [
        {
          "output_type": "execute_result",
          "data": {
            "text/plain": [
              "       Make     Type  Year  Origin   Color  Options  Engine_Size  Fuel_Type  \\\n",
              "0  Chrysler     C300  2018       1   Black        3         5.70          1   \n",
              "2    Nissan    Sunny  2019       1  Silver        1         1.50          1   \n",
              "3   Hyundai  Elantra  2019       1    Grey        1         1.60          1   \n",
              "4   Hyundai  Elantra  2019       1  Silver        2         2.00          1   \n",
              "5     Honda   Accord  2018       1    Navy        3         1.50          1   \n",
              "\n",
              "   Gear_Type  Mileage  Region     Price  \n",
              "0          1   103000  Riyadh 114000.00  \n",
              "2          1    72418  Riyadh  27500.00  \n",
              "3          1   114154  Riyadh  43000.00  \n",
              "4          1    41912  Riyadh  59500.00  \n",
              "5          1    39000  Riyadh  72000.00  "
            ],
            "text/html": [
              "\n",
              "  <div id=\"df-b516fe1c-74bc-4e9b-89b4-07b6d16979ac\">\n",
              "    <div class=\"colab-df-container\">\n",
              "      <div>\n",
              "<style scoped>\n",
              "    .dataframe tbody tr th:only-of-type {\n",
              "        vertical-align: middle;\n",
              "    }\n",
              "\n",
              "    .dataframe tbody tr th {\n",
              "        vertical-align: top;\n",
              "    }\n",
              "\n",
              "    .dataframe thead th {\n",
              "        text-align: right;\n",
              "    }\n",
              "</style>\n",
              "<table border=\"1\" class=\"dataframe\">\n",
              "  <thead>\n",
              "    <tr style=\"text-align: right;\">\n",
              "      <th></th>\n",
              "      <th>Make</th>\n",
              "      <th>Type</th>\n",
              "      <th>Year</th>\n",
              "      <th>Origin</th>\n",
              "      <th>Color</th>\n",
              "      <th>Options</th>\n",
              "      <th>Engine_Size</th>\n",
              "      <th>Fuel_Type</th>\n",
              "      <th>Gear_Type</th>\n",
              "      <th>Mileage</th>\n",
              "      <th>Region</th>\n",
              "      <th>Price</th>\n",
              "    </tr>\n",
              "  </thead>\n",
              "  <tbody>\n",
              "    <tr>\n",
              "      <th>0</th>\n",
              "      <td>Chrysler</td>\n",
              "      <td>C300</td>\n",
              "      <td>2018</td>\n",
              "      <td>1</td>\n",
              "      <td>Black</td>\n",
              "      <td>3</td>\n",
              "      <td>5.70</td>\n",
              "      <td>1</td>\n",
              "      <td>1</td>\n",
              "      <td>103000</td>\n",
              "      <td>Riyadh</td>\n",
              "      <td>114000.00</td>\n",
              "    </tr>\n",
              "    <tr>\n",
              "      <th>2</th>\n",
              "      <td>Nissan</td>\n",
              "      <td>Sunny</td>\n",
              "      <td>2019</td>\n",
              "      <td>1</td>\n",
              "      <td>Silver</td>\n",
              "      <td>1</td>\n",
              "      <td>1.50</td>\n",
              "      <td>1</td>\n",
              "      <td>1</td>\n",
              "      <td>72418</td>\n",
              "      <td>Riyadh</td>\n",
              "      <td>27500.00</td>\n",
              "    </tr>\n",
              "    <tr>\n",
              "      <th>3</th>\n",
              "      <td>Hyundai</td>\n",
              "      <td>Elantra</td>\n",
              "      <td>2019</td>\n",
              "      <td>1</td>\n",
              "      <td>Grey</td>\n",
              "      <td>1</td>\n",
              "      <td>1.60</td>\n",
              "      <td>1</td>\n",
              "      <td>1</td>\n",
              "      <td>114154</td>\n",
              "      <td>Riyadh</td>\n",
              "      <td>43000.00</td>\n",
              "    </tr>\n",
              "    <tr>\n",
              "      <th>4</th>\n",
              "      <td>Hyundai</td>\n",
              "      <td>Elantra</td>\n",
              "      <td>2019</td>\n",
              "      <td>1</td>\n",
              "      <td>Silver</td>\n",
              "      <td>2</td>\n",
              "      <td>2.00</td>\n",
              "      <td>1</td>\n",
              "      <td>1</td>\n",
              "      <td>41912</td>\n",
              "      <td>Riyadh</td>\n",
              "      <td>59500.00</td>\n",
              "    </tr>\n",
              "    <tr>\n",
              "      <th>5</th>\n",
              "      <td>Honda</td>\n",
              "      <td>Accord</td>\n",
              "      <td>2018</td>\n",
              "      <td>1</td>\n",
              "      <td>Navy</td>\n",
              "      <td>3</td>\n",
              "      <td>1.50</td>\n",
              "      <td>1</td>\n",
              "      <td>1</td>\n",
              "      <td>39000</td>\n",
              "      <td>Riyadh</td>\n",
              "      <td>72000.00</td>\n",
              "    </tr>\n",
              "  </tbody>\n",
              "</table>\n",
              "</div>\n",
              "      <button class=\"colab-df-convert\" onclick=\"convertToInteractive('df-b516fe1c-74bc-4e9b-89b4-07b6d16979ac')\"\n",
              "              title=\"Convert this dataframe to an interactive table.\"\n",
              "              style=\"display:none;\">\n",
              "        \n",
              "  <svg xmlns=\"http://www.w3.org/2000/svg\" height=\"24px\"viewBox=\"0 0 24 24\"\n",
              "       width=\"24px\">\n",
              "    <path d=\"M0 0h24v24H0V0z\" fill=\"none\"/>\n",
              "    <path d=\"M18.56 5.44l.94 2.06.94-2.06 2.06-.94-2.06-.94-.94-2.06-.94 2.06-2.06.94zm-11 1L8.5 8.5l.94-2.06 2.06-.94-2.06-.94L8.5 2.5l-.94 2.06-2.06.94zm10 10l.94 2.06.94-2.06 2.06-.94-2.06-.94-.94-2.06-.94 2.06-2.06.94z\"/><path d=\"M17.41 7.96l-1.37-1.37c-.4-.4-.92-.59-1.43-.59-.52 0-1.04.2-1.43.59L10.3 9.45l-7.72 7.72c-.78.78-.78 2.05 0 2.83L4 21.41c.39.39.9.59 1.41.59.51 0 1.02-.2 1.41-.59l7.78-7.78 2.81-2.81c.8-.78.8-2.07 0-2.86zM5.41 20L4 18.59l7.72-7.72 1.47 1.35L5.41 20z\"/>\n",
              "  </svg>\n",
              "      </button>\n",
              "      \n",
              "  <style>\n",
              "    .colab-df-container {\n",
              "      display:flex;\n",
              "      flex-wrap:wrap;\n",
              "      gap: 12px;\n",
              "    }\n",
              "\n",
              "    .colab-df-convert {\n",
              "      background-color: #E8F0FE;\n",
              "      border: none;\n",
              "      border-radius: 50%;\n",
              "      cursor: pointer;\n",
              "      display: none;\n",
              "      fill: #1967D2;\n",
              "      height: 32px;\n",
              "      padding: 0 0 0 0;\n",
              "      width: 32px;\n",
              "    }\n",
              "\n",
              "    .colab-df-convert:hover {\n",
              "      background-color: #E2EBFA;\n",
              "      box-shadow: 0px 1px 2px rgba(60, 64, 67, 0.3), 0px 1px 3px 1px rgba(60, 64, 67, 0.15);\n",
              "      fill: #174EA6;\n",
              "    }\n",
              "\n",
              "    [theme=dark] .colab-df-convert {\n",
              "      background-color: #3B4455;\n",
              "      fill: #D2E3FC;\n",
              "    }\n",
              "\n",
              "    [theme=dark] .colab-df-convert:hover {\n",
              "      background-color: #434B5C;\n",
              "      box-shadow: 0px 1px 3px 1px rgba(0, 0, 0, 0.15);\n",
              "      filter: drop-shadow(0px 1px 2px rgba(0, 0, 0, 0.3));\n",
              "      fill: #FFFFFF;\n",
              "    }\n",
              "  </style>\n",
              "\n",
              "      <script>\n",
              "        const buttonEl =\n",
              "          document.querySelector('#df-b516fe1c-74bc-4e9b-89b4-07b6d16979ac button.colab-df-convert');\n",
              "        buttonEl.style.display =\n",
              "          google.colab.kernel.accessAllowed ? 'block' : 'none';\n",
              "\n",
              "        async function convertToInteractive(key) {\n",
              "          const element = document.querySelector('#df-b516fe1c-74bc-4e9b-89b4-07b6d16979ac');\n",
              "          const dataTable =\n",
              "            await google.colab.kernel.invokeFunction('convertToInteractive',\n",
              "                                                     [key], {});\n",
              "          if (!dataTable) return;\n",
              "\n",
              "          const docLinkHtml = 'Like what you see? Visit the ' +\n",
              "            '<a target=\"_blank\" href=https://colab.research.google.com/notebooks/data_table.ipynb>data table notebook</a>'\n",
              "            + ' to learn more about interactive tables.';\n",
              "          element.innerHTML = '';\n",
              "          dataTable['output_type'] = 'display_data';\n",
              "          await google.colab.output.renderOutput(dataTable, element);\n",
              "          const docLink = document.createElement('div');\n",
              "          docLink.innerHTML = docLinkHtml;\n",
              "          element.appendChild(docLink);\n",
              "        }\n",
              "      </script>\n",
              "    </div>\n",
              "  </div>\n",
              "  "
            ]
          },
          "metadata": {},
          "execution_count": 299
        }
      ],
      "source": [
        "df['Origin'] = df['Origin'].map({'Saudi': 1, 'Gulf Arabic' : 2, 'Other' : 3})\n",
        "df['Options'] = df['Options'].map({'Standard':1,'Semi Full':2,'Full':3})\n",
        "df['Fuel_Type'] = df['Fuel_Type'].map({'Gas':1,'Diesel':2,'Hybrid':3})\n",
        "df['Gear_Type'] = df['Gear_Type'].map({'Automatic':1,'Manual':2})\n",
        "df.head()"
      ]
    },
    {
      "cell_type": "code",
      "source": [
        "features= list(df[['Year','Origin','Options','Engine_Size','Fuel_Type','Gear_Type','Mileage']])\n",
        "features"
      ],
      "metadata": {
        "colab": {
          "base_uri": "https://localhost:8080/"
        },
        "id": "3vtsOngl-2lj",
        "outputId": "53d32811-b655-4987-9844-a13f101b8a37"
      },
      "execution_count": 300,
      "outputs": [
        {
          "output_type": "execute_result",
          "data": {
            "text/plain": [
              "['Year',\n",
              " 'Origin',\n",
              " 'Options',\n",
              " 'Engine_Size',\n",
              " 'Fuel_Type',\n",
              " 'Gear_Type',\n",
              " 'Mileage']"
            ]
          },
          "metadata": {},
          "execution_count": 300
        }
      ]
    },
    {
      "cell_type": "code",
      "source": [
        "y= df['Price']\n",
        "x= df[features]"
      ],
      "metadata": {
        "id": "xBDuCb0f_aB_"
      },
      "execution_count": 301,
      "outputs": []
    },
    {
      "cell_type": "code",
      "source": [
        "from sklearn.model_selection import train_test_split\n",
        "x_train, x_test, y_train, y_test= train_test_split(x,y,test_size=0.20,random_state=2)"
      ],
      "metadata": {
        "id": "JhzI9omf_gCx"
      },
      "execution_count": 302,
      "outputs": []
    },
    {
      "cell_type": "code",
      "source": [
        "print(\"train size: \", len(x_train))\n",
        "print(\"test size: \", len(x_test))"
      ],
      "metadata": {
        "colab": {
          "base_uri": "https://localhost:8080/"
        },
        "id": "exqKKeZGN6gw",
        "outputId": "a54644b5-9ecc-4a94-f1cd-a5a8b394f7ac"
      },
      "execution_count": 303,
      "outputs": [
        {
          "output_type": "stream",
          "name": "stdout",
          "text": [
            "train size:  3429\n",
            "test size:  858\n"
          ]
        }
      ]
    },
    {
      "cell_type": "code",
      "source": [
        "df.head(10)"
      ],
      "metadata": {
        "colab": {
          "base_uri": "https://localhost:8080/",
          "height": 363
        },
        "id": "OmyEJCjgfJuU",
        "outputId": "c09adeb9-c86a-497b-d600-6e5799f84443"
      },
      "execution_count": 304,
      "outputs": [
        {
          "output_type": "execute_result",
          "data": {
            "text/plain": [
              "         Make          Type  Year  Origin   Color  Options  Engine_Size  \\\n",
              "0    Chrysler          C300  2018       1   Black        3         5.70   \n",
              "2      Nissan         Sunny  2019       1  Silver        1         1.50   \n",
              "3     Hyundai       Elantra  2019       1    Grey        1         1.60   \n",
              "4     Hyundai       Elantra  2019       1  Silver        2         2.00   \n",
              "5       Honda        Accord  2018       1    Navy        3         1.50   \n",
              "6      Toyota  Land Cruiser  2011       1   White        2         4.50   \n",
              "8   Chevrolet        Impala  2019       1   Black        1         3.60   \n",
              "9      Toyota         Yaris  2018       1   White        1         1.50   \n",
              "10     Toyota         Camry  2017       2   White        1         2.50   \n",
              "11     Nissan        Patrol  2014       1   White        3         5.60   \n",
              "\n",
              "    Fuel_Type  Gear_Type  Mileage  Region     Price  \n",
              "0           1          1   103000  Riyadh 114000.00  \n",
              "2           1          1    72418  Riyadh  27500.00  \n",
              "3           1          1   114154  Riyadh  43000.00  \n",
              "4           1          1    41912  Riyadh  59500.00  \n",
              "5           1          1    39000  Riyadh  72000.00  \n",
              "6           1          1   183000  Riyadh  92000.00  \n",
              "8           1          1    70000  Riyadh  80000.00  \n",
              "9           1          1   131000  Jeddah  32000.00  \n",
              "10          1          1   107000  Dammam  50000.00  \n",
              "11          1          1   106000  Dammam 135000.00  "
            ],
            "text/html": [
              "\n",
              "  <div id=\"df-015b3fc1-61c2-4104-87c7-b58109032b83\">\n",
              "    <div class=\"colab-df-container\">\n",
              "      <div>\n",
              "<style scoped>\n",
              "    .dataframe tbody tr th:only-of-type {\n",
              "        vertical-align: middle;\n",
              "    }\n",
              "\n",
              "    .dataframe tbody tr th {\n",
              "        vertical-align: top;\n",
              "    }\n",
              "\n",
              "    .dataframe thead th {\n",
              "        text-align: right;\n",
              "    }\n",
              "</style>\n",
              "<table border=\"1\" class=\"dataframe\">\n",
              "  <thead>\n",
              "    <tr style=\"text-align: right;\">\n",
              "      <th></th>\n",
              "      <th>Make</th>\n",
              "      <th>Type</th>\n",
              "      <th>Year</th>\n",
              "      <th>Origin</th>\n",
              "      <th>Color</th>\n",
              "      <th>Options</th>\n",
              "      <th>Engine_Size</th>\n",
              "      <th>Fuel_Type</th>\n",
              "      <th>Gear_Type</th>\n",
              "      <th>Mileage</th>\n",
              "      <th>Region</th>\n",
              "      <th>Price</th>\n",
              "    </tr>\n",
              "  </thead>\n",
              "  <tbody>\n",
              "    <tr>\n",
              "      <th>0</th>\n",
              "      <td>Chrysler</td>\n",
              "      <td>C300</td>\n",
              "      <td>2018</td>\n",
              "      <td>1</td>\n",
              "      <td>Black</td>\n",
              "      <td>3</td>\n",
              "      <td>5.70</td>\n",
              "      <td>1</td>\n",
              "      <td>1</td>\n",
              "      <td>103000</td>\n",
              "      <td>Riyadh</td>\n",
              "      <td>114000.00</td>\n",
              "    </tr>\n",
              "    <tr>\n",
              "      <th>2</th>\n",
              "      <td>Nissan</td>\n",
              "      <td>Sunny</td>\n",
              "      <td>2019</td>\n",
              "      <td>1</td>\n",
              "      <td>Silver</td>\n",
              "      <td>1</td>\n",
              "      <td>1.50</td>\n",
              "      <td>1</td>\n",
              "      <td>1</td>\n",
              "      <td>72418</td>\n",
              "      <td>Riyadh</td>\n",
              "      <td>27500.00</td>\n",
              "    </tr>\n",
              "    <tr>\n",
              "      <th>3</th>\n",
              "      <td>Hyundai</td>\n",
              "      <td>Elantra</td>\n",
              "      <td>2019</td>\n",
              "      <td>1</td>\n",
              "      <td>Grey</td>\n",
              "      <td>1</td>\n",
              "      <td>1.60</td>\n",
              "      <td>1</td>\n",
              "      <td>1</td>\n",
              "      <td>114154</td>\n",
              "      <td>Riyadh</td>\n",
              "      <td>43000.00</td>\n",
              "    </tr>\n",
              "    <tr>\n",
              "      <th>4</th>\n",
              "      <td>Hyundai</td>\n",
              "      <td>Elantra</td>\n",
              "      <td>2019</td>\n",
              "      <td>1</td>\n",
              "      <td>Silver</td>\n",
              "      <td>2</td>\n",
              "      <td>2.00</td>\n",
              "      <td>1</td>\n",
              "      <td>1</td>\n",
              "      <td>41912</td>\n",
              "      <td>Riyadh</td>\n",
              "      <td>59500.00</td>\n",
              "    </tr>\n",
              "    <tr>\n",
              "      <th>5</th>\n",
              "      <td>Honda</td>\n",
              "      <td>Accord</td>\n",
              "      <td>2018</td>\n",
              "      <td>1</td>\n",
              "      <td>Navy</td>\n",
              "      <td>3</td>\n",
              "      <td>1.50</td>\n",
              "      <td>1</td>\n",
              "      <td>1</td>\n",
              "      <td>39000</td>\n",
              "      <td>Riyadh</td>\n",
              "      <td>72000.00</td>\n",
              "    </tr>\n",
              "    <tr>\n",
              "      <th>6</th>\n",
              "      <td>Toyota</td>\n",
              "      <td>Land Cruiser</td>\n",
              "      <td>2011</td>\n",
              "      <td>1</td>\n",
              "      <td>White</td>\n",
              "      <td>2</td>\n",
              "      <td>4.50</td>\n",
              "      <td>1</td>\n",
              "      <td>1</td>\n",
              "      <td>183000</td>\n",
              "      <td>Riyadh</td>\n",
              "      <td>92000.00</td>\n",
              "    </tr>\n",
              "    <tr>\n",
              "      <th>8</th>\n",
              "      <td>Chevrolet</td>\n",
              "      <td>Impala</td>\n",
              "      <td>2019</td>\n",
              "      <td>1</td>\n",
              "      <td>Black</td>\n",
              "      <td>1</td>\n",
              "      <td>3.60</td>\n",
              "      <td>1</td>\n",
              "      <td>1</td>\n",
              "      <td>70000</td>\n",
              "      <td>Riyadh</td>\n",
              "      <td>80000.00</td>\n",
              "    </tr>\n",
              "    <tr>\n",
              "      <th>9</th>\n",
              "      <td>Toyota</td>\n",
              "      <td>Yaris</td>\n",
              "      <td>2018</td>\n",
              "      <td>1</td>\n",
              "      <td>White</td>\n",
              "      <td>1</td>\n",
              "      <td>1.50</td>\n",
              "      <td>1</td>\n",
              "      <td>1</td>\n",
              "      <td>131000</td>\n",
              "      <td>Jeddah</td>\n",
              "      <td>32000.00</td>\n",
              "    </tr>\n",
              "    <tr>\n",
              "      <th>10</th>\n",
              "      <td>Toyota</td>\n",
              "      <td>Camry</td>\n",
              "      <td>2017</td>\n",
              "      <td>2</td>\n",
              "      <td>White</td>\n",
              "      <td>1</td>\n",
              "      <td>2.50</td>\n",
              "      <td>1</td>\n",
              "      <td>1</td>\n",
              "      <td>107000</td>\n",
              "      <td>Dammam</td>\n",
              "      <td>50000.00</td>\n",
              "    </tr>\n",
              "    <tr>\n",
              "      <th>11</th>\n",
              "      <td>Nissan</td>\n",
              "      <td>Patrol</td>\n",
              "      <td>2014</td>\n",
              "      <td>1</td>\n",
              "      <td>White</td>\n",
              "      <td>3</td>\n",
              "      <td>5.60</td>\n",
              "      <td>1</td>\n",
              "      <td>1</td>\n",
              "      <td>106000</td>\n",
              "      <td>Dammam</td>\n",
              "      <td>135000.00</td>\n",
              "    </tr>\n",
              "  </tbody>\n",
              "</table>\n",
              "</div>\n",
              "      <button class=\"colab-df-convert\" onclick=\"convertToInteractive('df-015b3fc1-61c2-4104-87c7-b58109032b83')\"\n",
              "              title=\"Convert this dataframe to an interactive table.\"\n",
              "              style=\"display:none;\">\n",
              "        \n",
              "  <svg xmlns=\"http://www.w3.org/2000/svg\" height=\"24px\"viewBox=\"0 0 24 24\"\n",
              "       width=\"24px\">\n",
              "    <path d=\"M0 0h24v24H0V0z\" fill=\"none\"/>\n",
              "    <path d=\"M18.56 5.44l.94 2.06.94-2.06 2.06-.94-2.06-.94-.94-2.06-.94 2.06-2.06.94zm-11 1L8.5 8.5l.94-2.06 2.06-.94-2.06-.94L8.5 2.5l-.94 2.06-2.06.94zm10 10l.94 2.06.94-2.06 2.06-.94-2.06-.94-.94-2.06-.94 2.06-2.06.94z\"/><path d=\"M17.41 7.96l-1.37-1.37c-.4-.4-.92-.59-1.43-.59-.52 0-1.04.2-1.43.59L10.3 9.45l-7.72 7.72c-.78.78-.78 2.05 0 2.83L4 21.41c.39.39.9.59 1.41.59.51 0 1.02-.2 1.41-.59l7.78-7.78 2.81-2.81c.8-.78.8-2.07 0-2.86zM5.41 20L4 18.59l7.72-7.72 1.47 1.35L5.41 20z\"/>\n",
              "  </svg>\n",
              "      </button>\n",
              "      \n",
              "  <style>\n",
              "    .colab-df-container {\n",
              "      display:flex;\n",
              "      flex-wrap:wrap;\n",
              "      gap: 12px;\n",
              "    }\n",
              "\n",
              "    .colab-df-convert {\n",
              "      background-color: #E8F0FE;\n",
              "      border: none;\n",
              "      border-radius: 50%;\n",
              "      cursor: pointer;\n",
              "      display: none;\n",
              "      fill: #1967D2;\n",
              "      height: 32px;\n",
              "      padding: 0 0 0 0;\n",
              "      width: 32px;\n",
              "    }\n",
              "\n",
              "    .colab-df-convert:hover {\n",
              "      background-color: #E2EBFA;\n",
              "      box-shadow: 0px 1px 2px rgba(60, 64, 67, 0.3), 0px 1px 3px 1px rgba(60, 64, 67, 0.15);\n",
              "      fill: #174EA6;\n",
              "    }\n",
              "\n",
              "    [theme=dark] .colab-df-convert {\n",
              "      background-color: #3B4455;\n",
              "      fill: #D2E3FC;\n",
              "    }\n",
              "\n",
              "    [theme=dark] .colab-df-convert:hover {\n",
              "      background-color: #434B5C;\n",
              "      box-shadow: 0px 1px 3px 1px rgba(0, 0, 0, 0.15);\n",
              "      filter: drop-shadow(0px 1px 2px rgba(0, 0, 0, 0.3));\n",
              "      fill: #FFFFFF;\n",
              "    }\n",
              "  </style>\n",
              "\n",
              "      <script>\n",
              "        const buttonEl =\n",
              "          document.querySelector('#df-015b3fc1-61c2-4104-87c7-b58109032b83 button.colab-df-convert');\n",
              "        buttonEl.style.display =\n",
              "          google.colab.kernel.accessAllowed ? 'block' : 'none';\n",
              "\n",
              "        async function convertToInteractive(key) {\n",
              "          const element = document.querySelector('#df-015b3fc1-61c2-4104-87c7-b58109032b83');\n",
              "          const dataTable =\n",
              "            await google.colab.kernel.invokeFunction('convertToInteractive',\n",
              "                                                     [key], {});\n",
              "          if (!dataTable) return;\n",
              "\n",
              "          const docLinkHtml = 'Like what you see? Visit the ' +\n",
              "            '<a target=\"_blank\" href=https://colab.research.google.com/notebooks/data_table.ipynb>data table notebook</a>'\n",
              "            + ' to learn more about interactive tables.';\n",
              "          element.innerHTML = '';\n",
              "          dataTable['output_type'] = 'display_data';\n",
              "          await google.colab.output.renderOutput(dataTable, element);\n",
              "          const docLink = document.createElement('div');\n",
              "          docLink.innerHTML = docLinkHtml;\n",
              "          element.appendChild(docLink);\n",
              "        }\n",
              "      </script>\n",
              "    </div>\n",
              "  </div>\n",
              "  "
            ]
          },
          "metadata": {},
          "execution_count": 304
        }
      ]
    },
    {
      "cell_type": "code",
      "source": [
        "from sklearn import tree\n",
        "dct= tree.DecisionTreeClassifier(random_state=1)\n",
        "dct= dct.fit(x_train,y_train)"
      ],
      "metadata": {
        "id": "7AmbJO0COfCK"
      },
      "execution_count": 305,
      "outputs": []
    },
    {
      "cell_type": "code",
      "source": [
        "#Predict car price based on features ['Year', 'Origin', 'Options', 'Engine_Size', 'Fuel_Type', 'Gear_Type', 'Mileage']\n",
        "print (\"Car price is:\",dct.predict([[2018, 1, 3, 5.70, 1, 1, 103000]]))\n",
        "print (\"Car price is:\",dct.predict([[2019,1 , 1, 1.50, 1, 1, 72418]]))\n",
        "print (\"Car price is:\",dct.predict([[2019, 1, 1, 1.60, 1, 1, 114154]]))\n",
        "print (\"Car price is:\",dct.predict([[2011,1 , 2, 4.50, 1, 1, 183000]]))"
      ],
      "metadata": {
        "colab": {
          "base_uri": "https://localhost:8080/"
        },
        "id": "lMHpjh6CVAJY",
        "outputId": "4dae42b5-de98-49bb-a52c-66f128e10ae4"
      },
      "execution_count": 306,
      "outputs": [
        {
          "output_type": "stream",
          "name": "stdout",
          "text": [
            "Car price is: [114000.]\n",
            "Car price is: [27500.]\n",
            "Car price is: [43000.]\n",
            "Car price is: [92000.]\n"
          ]
        },
        {
          "output_type": "stream",
          "name": "stderr",
          "text": [
            "/usr/local/lib/python3.7/dist-packages/sklearn/base.py:451: UserWarning: X does not have valid feature names, but DecisionTreeClassifier was fitted with feature names\n",
            "  \"X does not have valid feature names, but\"\n",
            "/usr/local/lib/python3.7/dist-packages/sklearn/base.py:451: UserWarning: X does not have valid feature names, but DecisionTreeClassifier was fitted with feature names\n",
            "  \"X does not have valid feature names, but\"\n",
            "/usr/local/lib/python3.7/dist-packages/sklearn/base.py:451: UserWarning: X does not have valid feature names, but DecisionTreeClassifier was fitted with feature names\n",
            "  \"X does not have valid feature names, but\"\n",
            "/usr/local/lib/python3.7/dist-packages/sklearn/base.py:451: UserWarning: X does not have valid feature names, but DecisionTreeClassifier was fitted with feature names\n",
            "  \"X does not have valid feature names, but\"\n"
          ]
        }
      ]
    }
  ],
  "metadata": {
    "colab": {
      "collapsed_sections": [],
      "name": "code.ipynb",
      "provenance": []
    },
    "interpreter": {
      "hash": "c25269a4018224bb4e3cb6b79397037e31419b0dedc1b97e47175df2e08dbf7b"
    },
    "kernelspec": {
      "display_name": "Python 3.9.7 64-bit",
      "language": "python",
      "name": "python3"
    },
    "language_info": {
      "codemirror_mode": {
        "name": "ipython",
        "version": 3
      },
      "file_extension": ".py",
      "mimetype": "text/x-python",
      "name": "python",
      "nbconvert_exporter": "python",
      "pygments_lexer": "ipython3",
      "version": "3.9.7"
    }
  },
  "nbformat": 4,
  "nbformat_minor": 0
}